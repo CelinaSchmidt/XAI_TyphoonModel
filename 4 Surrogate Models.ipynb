{
 "cells": [
  {
   "cell_type": "code",
   "execution_count": 1,
   "metadata": {},
   "outputs": [
    {
     "name": "stderr",
     "output_type": "stream",
     "text": [
      "A value is trying to be set on a copy of a DataFrame or Series through chained assignment using an inplace method.\n",
      "The behavior will change in pandas 3.0. This inplace method will never work because the intermediate object on which we are setting values always behaves as a copy.\n",
      "\n",
      "For example, when doing 'df[col].method(value, inplace=True)', try using 'df.method({col: value}, inplace=True)' or df[col] = df[col].method(value) instead, to perform the operation inplace on the original object.\n",
      "\n",
      "\n",
      "A value is trying to be set on a copy of a DataFrame or Series through chained assignment using an inplace method.\n",
      "The behavior will change in pandas 3.0. This inplace method will never work because the intermediate object on which we are setting values always behaves as a copy.\n",
      "\n",
      "For example, when doing 'df[col].method(value, inplace=True)', try using 'df.method({col: value}, inplace=True)' or df[col] = df[col].method(value) instead, to perform the operation inplace on the original object.\n",
      "\n",
      "\n",
      "A value is trying to be set on a copy of a DataFrame or Series through chained assignment using an inplace method.\n",
      "The behavior will change in pandas 3.0. This inplace method will never work because the intermediate object on which we are setting values always behaves as a copy.\n",
      "\n",
      "For example, when doing 'df[col].method(value, inplace=True)', try using 'df.method({col: value}, inplace=True)' or df[col] = df[col].method(value) instead, to perform the operation inplace on the original object.\n",
      "\n",
      "\n",
      "A value is trying to be set on a copy of a DataFrame or Series through chained assignment using an inplace method.\n",
      "The behavior will change in pandas 3.0. This inplace method will never work because the intermediate object on which we are setting values always behaves as a copy.\n",
      "\n",
      "For example, when doing 'df[col].method(value, inplace=True)', try using 'df.method({col: value}, inplace=True)' or df[col] = df[col].method(value) instead, to perform the operation inplace on the original object.\n",
      "\n",
      "\n",
      "A value is trying to be set on a copy of a DataFrame or Series through chained assignment using an inplace method.\n",
      "The behavior will change in pandas 3.0. This inplace method will never work because the intermediate object on which we are setting values always behaves as a copy.\n",
      "\n",
      "For example, when doing 'df[col].method(value, inplace=True)', try using 'df.method({col: value}, inplace=True)' or df[col] = df[col].method(value) instead, to perform the operation inplace on the original object.\n",
      "\n",
      "\n",
      "A value is trying to be set on a copy of a DataFrame or Series through chained assignment using an inplace method.\n",
      "The behavior will change in pandas 3.0. This inplace method will never work because the intermediate object on which we are setting values always behaves as a copy.\n",
      "\n",
      "For example, when doing 'df[col].method(value, inplace=True)', try using 'df.method({col: value}, inplace=True)' or df[col] = df[col].method(value) instead, to perform the operation inplace on the original object.\n",
      "\n",
      "\n",
      "A value is trying to be set on a copy of a DataFrame or Series through chained assignment using an inplace method.\n",
      "The behavior will change in pandas 3.0. This inplace method will never work because the intermediate object on which we are setting values always behaves as a copy.\n",
      "\n",
      "For example, when doing 'df[col].method(value, inplace=True)', try using 'df.method({col: value}, inplace=True)' or df[col] = df[col].method(value) instead, to perform the operation inplace on the original object.\n",
      "\n",
      "\n",
      "A value is trying to be set on a copy of a DataFrame or Series through chained assignment using an inplace method.\n",
      "The behavior will change in pandas 3.0. This inplace method will never work because the intermediate object on which we are setting values always behaves as a copy.\n",
      "\n",
      "For example, when doing 'df[col].method(value, inplace=True)', try using 'df.method({col: value}, inplace=True)' or df[col] = df[col].method(value) instead, to perform the operation inplace on the original object.\n",
      "\n",
      "\n",
      "A value is trying to be set on a copy of a DataFrame or Series through chained assignment using an inplace method.\n",
      "The behavior will change in pandas 3.0. This inplace method will never work because the intermediate object on which we are setting values always behaves as a copy.\n",
      "\n",
      "For example, when doing 'df[col].method(value, inplace=True)', try using 'df.method({col: value}, inplace=True)' or df[col] = df[col].method(value) instead, to perform the operation inplace on the original object.\n",
      "\n",
      "\n",
      "A value is trying to be set on a copy of a DataFrame or Series through chained assignment using an inplace method.\n",
      "The behavior will change in pandas 3.0. This inplace method will never work because the intermediate object on which we are setting values always behaves as a copy.\n",
      "\n",
      "For example, when doing 'df[col].method(value, inplace=True)', try using 'df.method({col: value}, inplace=True)' or df[col] = df[col].method(value) instead, to perform the operation inplace on the original object.\n",
      "\n",
      "\n",
      "A value is trying to be set on a copy of a DataFrame or Series through chained assignment using an inplace method.\n",
      "The behavior will change in pandas 3.0. This inplace method will never work because the intermediate object on which we are setting values always behaves as a copy.\n",
      "\n",
      "For example, when doing 'df[col].method(value, inplace=True)', try using 'df.method({col: value}, inplace=True)' or df[col] = df[col].method(value) instead, to perform the operation inplace on the original object.\n",
      "\n",
      "\n",
      "A value is trying to be set on a copy of a DataFrame or Series through chained assignment using an inplace method.\n",
      "The behavior will change in pandas 3.0. This inplace method will never work because the intermediate object on which we are setting values always behaves as a copy.\n",
      "\n",
      "For example, when doing 'df[col].method(value, inplace=True)', try using 'df.method({col: value}, inplace=True)' or df[col] = df[col].method(value) instead, to perform the operation inplace on the original object.\n",
      "\n",
      "\n"
     ]
    }
   ],
   "source": [
    "import pandas as pd\n",
    "import numpy as np\n",
    "from model_function import Load_Model\n",
    "\n",
    "import warnings\n",
    "warnings.filterwarnings(\"ignore\")\n",
    "\n",
    "X_train_df = pd.DataFrame(Load_Model(\"X_train\"), columns = Load_Model(\"features\"))\n",
    "X_test_df = pd.DataFrame(Load_Model(\"X_test\"), columns = Load_Model(\"features\"))\n",
    "X_test = Load_Model(\"X_test\")\n",
    "y_test = Load_Model(\"y_test\")\n",
    "X_train = Load_Model(\"X_train\")\n",
    "y_train = Load_Model(\"y_train\")\n",
    "features = Load_Model(\"features\")\n",
    "model = Load_Model('xgb_model')"
   ]
  },
  {
   "cell_type": "code",
   "execution_count": 2,
   "metadata": {},
   "outputs": [
    {
     "name": "stderr",
     "output_type": "stream",
     "text": [
      "A value is trying to be set on a copy of a DataFrame or Series through chained assignment using an inplace method.\n",
      "The behavior will change in pandas 3.0. This inplace method will never work because the intermediate object on which we are setting values always behaves as a copy.\n",
      "\n",
      "For example, when doing 'df[col].method(value, inplace=True)', try using 'df.method({col: value}, inplace=True)' or df[col] = df[col].method(value) instead, to perform the operation inplace on the original object.\n",
      "\n",
      "\n",
      "A value is trying to be set on a copy of a DataFrame or Series through chained assignment using an inplace method.\n",
      "The behavior will change in pandas 3.0. This inplace method will never work because the intermediate object on which we are setting values always behaves as a copy.\n",
      "\n",
      "For example, when doing 'df[col].method(value, inplace=True)', try using 'df.method({col: value}, inplace=True)' or df[col] = df[col].method(value) instead, to perform the operation inplace on the original object.\n",
      "\n",
      "\n",
      "\n",
      "A value is trying to be set on a copy of a slice from a DataFrame.\n",
      "Try using .loc[row_indexer,col_indexer] = value instead\n",
      "\n",
      "See the caveats in the documentation: https://pandas.pydata.org/pandas-docs/stable/user_guide/indexing.html#returning-a-view-versus-a-copy\n",
      "\n",
      "A value is trying to be set on a copy of a slice from a DataFrame.\n",
      "Try using .loc[row_indexer,col_indexer] = value instead\n",
      "\n",
      "See the caveats in the documentation: https://pandas.pydata.org/pandas-docs/stable/user_guide/indexing.html#returning-a-view-versus-a-copy\n",
      "A value is trying to be set on a copy of a DataFrame or Series through chained assignment using an inplace method.\n",
      "The behavior will change in pandas 3.0. This inplace method will never work because the intermediate object on which we are setting values always behaves as a copy.\n",
      "\n",
      "For example, when doing 'df[col].method(value, inplace=True)', try using 'df.method({col: value}, inplace=True)' or df[col] = df[col].method(value) instead, to perform the operation inplace on the original object.\n",
      "\n",
      "\n",
      "A value is trying to be set on a copy of a DataFrame or Series through chained assignment using an inplace method.\n",
      "The behavior will change in pandas 3.0. This inplace method will never work because the intermediate object on which we are setting values always behaves as a copy.\n",
      "\n",
      "For example, when doing 'df[col].method(value, inplace=True)', try using 'df.method({col: value}, inplace=True)' or df[col] = df[col].method(value) instead, to perform the operation inplace on the original object.\n",
      "\n",
      "\n",
      "\n",
      "A value is trying to be set on a copy of a slice from a DataFrame.\n",
      "Try using .loc[row_indexer,col_indexer] = value instead\n",
      "\n",
      "See the caveats in the documentation: https://pandas.pydata.org/pandas-docs/stable/user_guide/indexing.html#returning-a-view-versus-a-copy\n",
      "\n",
      "A value is trying to be set on a copy of a slice from a DataFrame.\n",
      "Try using .loc[row_indexer,col_indexer] = value instead\n",
      "\n",
      "See the caveats in the documentation: https://pandas.pydata.org/pandas-docs/stable/user_guide/indexing.html#returning-a-view-versus-a-copy\n"
     ]
    }
   ],
   "source": [
    "y_trainxgb = model.predict(X_train)\n",
    "y_testxgb = model.predict(X_test)\n",
    "\n",
    "from model_function import predict2SGGlobal\n",
    "y_trainxgb2 = predict2SGGlobal(X_train)\n",
    "y_testxgb2 = predict2SGGlobal(X_test)"
   ]
  },
  {
   "cell_type": "code",
   "execution_count": 3,
   "metadata": {},
   "outputs": [],
   "source": [
    "from sklearn.linear_model import LinearRegression\n",
    "from sklearn.metrics import mean_squared_error"
   ]
  },
  {
   "cell_type": "markdown",
   "metadata": {},
   "source": [
    "## Linear Regression"
   ]
  },
  {
   "cell_type": "code",
   "execution_count": 6,
   "metadata": {},
   "outputs": [
    {
     "name": "stdout",
     "output_type": "stream",
     "text": [
      "MSE:  9.236540284167251\n",
      "RMSE:  3.0391676959600717\n"
     ]
    }
   ],
   "source": [
    "# linear regression\n",
    "\n",
    "lr = LinearRegression()\n",
    "lr.fit(X_train, y_trainxgb)\n",
    "y_pred = lr.predict(X_test)\n",
    "mse = mean_squared_error(y_testxgb, y_pred)\n",
    "print(\"MSE: \", mse)\n",
    "#RSME\n",
    "import numpy as np\n",
    "rmse = np.sqrt(mse)\n",
    "print(\"RMSE: \", rmse)"
   ]
  },
  {
   "cell_type": "code",
   "execution_count": 7,
   "metadata": {},
   "outputs": [
    {
     "name": "stdout",
     "output_type": "stream",
     "text": [
      "MSE:  10.68194411858996\n",
      "RMSE:  3.268324359452403\n"
     ]
    }
   ],
   "source": [
    "lr2 = LinearRegression()\n",
    "lr2.fit(X_train, y_trainxgb2)\n",
    "y_pred = lr.predict(X_test)\n",
    "mse = mean_squared_error(y_testxgb2, y_pred)\n",
    "print(\"MSE: \", mse)\n",
    "#RSME\n",
    "import numpy as np\n",
    "rmse = np.sqrt(mse)\n",
    "print(\"RMSE: \", rmse)"
   ]
  },
  {
   "cell_type": "code",
   "execution_count": 18,
   "metadata": {},
   "outputs": [
    {
     "ename": "ImportError",
     "evalue": "cannot import name 'shap_list_xgb2' from 'featurelists' (c:\\Users\\celin\\Documents\\VSC Documents\\Thesis_2\\featurelists.py)",
     "output_type": "error",
     "traceback": [
      "\u001b[1;31m---------------------------------------------------------------------------\u001b[0m",
      "\u001b[1;31mImportError\u001b[0m                               Traceback (most recent call last)",
      "Cell \u001b[1;32mIn[18], line 7\u001b[0m\n\u001b[0;32m      1\u001b[0m shap_list \u001b[38;5;241m=\u001b[39m [\u001b[38;5;124m'\u001b[39m\u001b[38;5;124mwind_speed\u001b[39m\u001b[38;5;124m'\u001b[39m, \u001b[38;5;124m'\u001b[39m\u001b[38;5;124mtrack_distance\u001b[39m\u001b[38;5;124m'\u001b[39m, \u001b[38;5;124m'\u001b[39m\u001b[38;5;124mrainfall_max_6h\u001b[39m\u001b[38;5;124m'\u001b[39m,\n\u001b[0;32m      2\u001b[0m        \u001b[38;5;124m'\u001b[39m\u001b[38;5;124mpercent_houses_damaged_5years\u001b[39m\u001b[38;5;124m'\u001b[39m, \u001b[38;5;124m'\u001b[39m\u001b[38;5;124mrainfall_max_24h\u001b[39m\u001b[38;5;124m'\u001b[39m, \u001b[38;5;124m'\u001b[39m\u001b[38;5;124murban\u001b[39m\u001b[38;5;124m'\u001b[39m,\n\u001b[0;32m      3\u001b[0m        \u001b[38;5;124m'\u001b[39m\u001b[38;5;124mmean_elev\u001b[39m\u001b[38;5;124m'\u001b[39m, \u001b[38;5;124m'\u001b[39m\u001b[38;5;124mcoast_length\u001b[39m\u001b[38;5;124m'\u001b[39m, \u001b[38;5;124m'\u001b[39m\u001b[38;5;124mtotal_houses\u001b[39m\u001b[38;5;124m'\u001b[39m, \u001b[38;5;124m'\u001b[39m\u001b[38;5;124mrwi\u001b[39m\u001b[38;5;124m'\u001b[39m, \u001b[38;5;124m'\u001b[39m\u001b[38;5;124mstd_slope\u001b[39m\u001b[38;5;124m'\u001b[39m,\n\u001b[0;32m      4\u001b[0m        \u001b[38;5;124m'\u001b[39m\u001b[38;5;124mmean_slope\u001b[39m\u001b[38;5;124m'\u001b[39m, \u001b[38;5;124m'\u001b[39m\u001b[38;5;124mtotal_pop\u001b[39m\u001b[38;5;124m'\u001b[39m, \u001b[38;5;124m'\u001b[39m\u001b[38;5;124mmean_tri\u001b[39m\u001b[38;5;124m'\u001b[39m, \u001b[38;5;124m'\u001b[39m\u001b[38;5;124mwater\u001b[39m\u001b[38;5;124m'\u001b[39m, \u001b[38;5;124m'\u001b[39m\u001b[38;5;124mrural\u001b[39m\u001b[38;5;124m'\u001b[39m, \u001b[38;5;124m'\u001b[39m\u001b[38;5;124mstd_tri\u001b[39m\u001b[38;5;124m'\u001b[39m,\n\u001b[0;32m      5\u001b[0m        \u001b[38;5;124m'\u001b[39m\u001b[38;5;124mwith_coast\u001b[39m\u001b[38;5;124m'\u001b[39m]\n\u001b[1;32m----> 7\u001b[0m \u001b[38;5;28;01mfrom\u001b[39;00m \u001b[38;5;21;01mfeaturelists\u001b[39;00m \u001b[38;5;28;01mimport\u001b[39;00m shap_list, lime_list , shap_list_xgb2, lime_list_xgb2\n",
      "\u001b[1;31mImportError\u001b[0m: cannot import name 'shap_list_xgb2' from 'featurelists' (c:\\Users\\celin\\Documents\\VSC Documents\\Thesis_2\\featurelists.py)"
     ]
    }
   ],
   "source": [
    "shap_list = ['wind_speed', 'track_distance', 'rainfall_max_6h',\n",
    "       'percent_houses_damaged_5years', 'rainfall_max_24h', 'urban',\n",
    "       'mean_elev', 'coast_length', 'total_houses', 'rwi', 'std_slope',\n",
    "       'mean_slope', 'total_pop', 'mean_tri', 'water', 'rural', 'std_tri',\n",
    "       'with_coast']\n",
    "\n",
    "from featurelists import shap_list, lime_list , shap_list_xgb2, lime_list_xgb2"
   ]
  },
  {
   "cell_type": "code",
   "execution_count": 17,
   "metadata": {},
   "outputs": [
    {
     "name": "stdout",
     "output_type": "stream",
     "text": [
      "MSE:  9.27138657998733\n",
      "RMSE:  3.0448951673230606\n"
     ]
    }
   ],
   "source": [
    "# only use best n variables\n",
    "n = 5\n",
    "lr = LinearRegression()\n",
    "lr.fit(X_train_df[shap_list[:n]], y_trainxgb)\n",
    "y_pred = lr.predict(X_test_df[shap_list[:n]])\n",
    "\n",
    "\n",
    "mse = mean_squared_error(y_testxgb, y_pred)\n",
    "print(\"MSE: \", mse)\n",
    "print(\"RMSE: \", np.sqrt(mse))"
   ]
  },
  {
   "cell_type": "code",
   "execution_count": 10,
   "metadata": {},
   "outputs": [
    {
     "data": {
      "image/png": "[encoded data removed]",
      "text/plain": [
       "<Figure size 640x480 with 1 Axes>"
      ]
     },
     "metadata": {},
     "output_type": "display_data"
    }
   ],
   "source": [
    "# RSME for all possible n\n",
    "rmse_list = []\n",
    "for n in range(1, len(shap_list)+1):\n",
    "    lr = LinearRegression()\n",
    "    lr.fit(X_train_df[shap_list[:n]], y_trainxgb)\n",
    "    y_pred = lr.predict(X_test_df[shap_list[:n]])\n",
    "    mse = mean_squared_error(y_testxgb, y_pred)\n",
    "    rmse = np.sqrt(mse)\n",
    "    rmse_list.append(rmse)\n",
    "\n",
    "# plot\n",
    "import matplotlib.pyplot as plt\n",
    "plt.plot(rmse_list)\n",
    "plt.xlabel('Number of Features')\n",
    "plt.xticks(range(len(shap_list)), list(range(1,19)))\n",
    "plt.ylabel('RMSE')\n",
    "plt.title('RMSE vs Number of Features')\n",
    "plt.show()\n"
   ]
  },
  {
   "cell_type": "markdown",
   "metadata": {},
   "source": [
    "### GLM"
   ]
  },
  {
   "cell_type": "code",
   "execution_count": 19,
   "metadata": {},
   "outputs": [
    {
     "name": "stderr",
     "output_type": "stream",
     "text": [
      "A value is trying to be set on a copy of a DataFrame or Series through chained assignment using an inplace method.\n",
      "The behavior will change in pandas 3.0. This inplace method will never work because the intermediate object on which we are setting values always behaves as a copy.\n",
      "\n",
      "For example, when doing 'df[col].method(value, inplace=True)', try using 'df.method({col: value}, inplace=True)' or df[col] = df[col].method(value) instead, to perform the operation inplace on the original object.\n",
      "\n",
      "\n"
     ]
    },
    {
     "data": {
      "text/html": [
       "<div>\n",
       "<style scoped>\n",
       "    .dataframe tbody tr th:only-of-type {\n",
       "        vertical-align: middle;\n",
       "    }\n",
       "\n",
       "    .dataframe tbody tr th {\n",
       "        vertical-align: top;\n",
       "    }\n",
       "\n",
       "    .dataframe thead th {\n",
       "        text-align: right;\n",
       "    }\n",
       "</style>\n",
       "<table border=\"1\" class=\"dataframe\">\n",
       "  <thead>\n",
       "    <tr style=\"text-align: right;\">\n",
       "      <th></th>\n",
       "      <th>wind_speed</th>\n",
       "      <th>track_distance</th>\n",
       "      <th>total_houses</th>\n",
       "      <th>rainfall_max_6h</th>\n",
       "      <th>rainfall_max_24h</th>\n",
       "      <th>rwi</th>\n",
       "      <th>mean_slope</th>\n",
       "      <th>std_slope</th>\n",
       "      <th>mean_tri</th>\n",
       "      <th>std_tri</th>\n",
       "      <th>mean_elev</th>\n",
       "      <th>coast_length</th>\n",
       "      <th>with_coast</th>\n",
       "      <th>urban</th>\n",
       "      <th>rural</th>\n",
       "      <th>water</th>\n",
       "      <th>total_pop</th>\n",
       "      <th>percent_houses_damaged_5years</th>\n",
       "      <th>percent_houses_damaged</th>\n",
       "    </tr>\n",
       "  </thead>\n",
       "  <tbody>\n",
       "    <tr>\n",
       "      <th>0</th>\n",
       "      <td>-0.704686</td>\n",
       "      <td>1.420347</td>\n",
       "      <td>-0.272376</td>\n",
       "      <td>-1.175524</td>\n",
       "      <td>-1.265043</td>\n",
       "      <td>-0.100972</td>\n",
       "      <td>0.691289</td>\n",
       "      <td>0.852915</td>\n",
       "      <td>1.094009</td>\n",
       "      <td>1.008363</td>\n",
       "      <td>-0.617499</td>\n",
       "      <td>-0.352036</td>\n",
       "      <td>0.935205</td>\n",
       "      <td>-0.731012</td>\n",
       "      <td>-1.510670</td>\n",
       "      <td>1.947325</td>\n",
       "      <td>-0.279989</td>\n",
       "      <td>-0.241398</td>\n",
       "      <td>0.0</td>\n",
       "    </tr>\n",
       "    <tr>\n",
       "      <th>1</th>\n",
       "      <td>-0.788156</td>\n",
       "      <td>1.673016</td>\n",
       "      <td>-0.270376</td>\n",
       "      <td>-1.133698</td>\n",
       "      <td>-1.255425</td>\n",
       "      <td>1.106914</td>\n",
       "      <td>0.878330</td>\n",
       "      <td>0.504172</td>\n",
       "      <td>0.893696</td>\n",
       "      <td>0.244915</td>\n",
       "      <td>-0.523135</td>\n",
       "      <td>2.853693</td>\n",
       "      <td>0.935205</td>\n",
       "      <td>-0.731012</td>\n",
       "      <td>-1.131296</td>\n",
       "      <td>1.565883</td>\n",
       "      <td>-0.278028</td>\n",
       "      <td>-0.241398</td>\n",
       "      <td>0.0</td>\n",
       "    </tr>\n",
       "    <tr>\n",
       "      <th>2</th>\n",
       "      <td>-0.654702</td>\n",
       "      <td>1.277761</td>\n",
       "      <td>-0.272098</td>\n",
       "      <td>-1.168104</td>\n",
       "      <td>-1.229554</td>\n",
       "      <td>-1.320165</td>\n",
       "      <td>1.784406</td>\n",
       "      <td>2.153799</td>\n",
       "      <td>2.099183</td>\n",
       "      <td>2.653361</td>\n",
       "      <td>-0.429186</td>\n",
       "      <td>3.181211</td>\n",
       "      <td>0.935205</td>\n",
       "      <td>-0.731012</td>\n",
       "      <td>-1.212591</td>\n",
       "      <td>1.647621</td>\n",
       "      <td>-0.276812</td>\n",
       "      <td>-0.241398</td>\n",
       "      <td>0.0</td>\n",
       "    </tr>\n",
       "    <tr>\n",
       "      <th>3</th>\n",
       "      <td>-0.700491</td>\n",
       "      <td>1.404514</td>\n",
       "      <td>-0.269193</td>\n",
       "      <td>-1.192053</td>\n",
       "      <td>-1.257415</td>\n",
       "      <td>-0.142657</td>\n",
       "      <td>0.468673</td>\n",
       "      <td>0.648387</td>\n",
       "      <td>0.594333</td>\n",
       "      <td>0.773553</td>\n",
       "      <td>-0.564862</td>\n",
       "      <td>2.440864</td>\n",
       "      <td>0.935205</td>\n",
       "      <td>-0.731012</td>\n",
       "      <td>-1.185493</td>\n",
       "      <td>1.620375</td>\n",
       "      <td>-0.265103</td>\n",
       "      <td>-0.241398</td>\n",
       "      <td>0.0</td>\n",
       "    </tr>\n",
       "    <tr>\n",
       "      <th>4</th>\n",
       "      <td>-0.743750</td>\n",
       "      <td>1.531266</td>\n",
       "      <td>-0.237499</td>\n",
       "      <td>-1.188679</td>\n",
       "      <td>-1.272174</td>\n",
       "      <td>-0.350679</td>\n",
       "      <td>0.845817</td>\n",
       "      <td>0.509406</td>\n",
       "      <td>0.791717</td>\n",
       "      <td>0.286700</td>\n",
       "      <td>-0.400399</td>\n",
       "      <td>4.370635</td>\n",
       "      <td>0.935205</td>\n",
       "      <td>-0.405585</td>\n",
       "      <td>-0.264156</td>\n",
       "      <td>0.503295</td>\n",
       "      <td>-0.197596</td>\n",
       "      <td>-0.241398</td>\n",
       "      <td>0.0</td>\n",
       "    </tr>\n",
       "    <tr>\n",
       "      <th>...</th>\n",
       "      <td>...</td>\n",
       "      <td>...</td>\n",
       "      <td>...</td>\n",
       "      <td>...</td>\n",
       "      <td>...</td>\n",
       "      <td>...</td>\n",
       "      <td>...</td>\n",
       "      <td>...</td>\n",
       "      <td>...</td>\n",
       "      <td>...</td>\n",
       "      <td>...</td>\n",
       "      <td>...</td>\n",
       "      <td>...</td>\n",
       "      <td>...</td>\n",
       "      <td>...</td>\n",
       "      <td>...</td>\n",
       "      <td>...</td>\n",
       "      <td>...</td>\n",
       "      <td>...</td>\n",
       "    </tr>\n",
       "    <tr>\n",
       "      <th>49749</th>\n",
       "      <td>-1.064795</td>\n",
       "      <td>1.196675</td>\n",
       "      <td>-0.270872</td>\n",
       "      <td>-0.918833</td>\n",
       "      <td>-1.028225</td>\n",
       "      <td>-1.625712</td>\n",
       "      <td>0.232948</td>\n",
       "      <td>1.047870</td>\n",
       "      <td>0.320292</td>\n",
       "      <td>1.146974</td>\n",
       "      <td>-0.627544</td>\n",
       "      <td>-0.546194</td>\n",
       "      <td>0.935205</td>\n",
       "      <td>-0.684523</td>\n",
       "      <td>-1.510670</td>\n",
       "      <td>1.920079</td>\n",
       "      <td>-0.277650</td>\n",
       "      <td>0.534283</td>\n",
       "      <td>0.0</td>\n",
       "    </tr>\n",
       "    <tr>\n",
       "      <th>49750</th>\n",
       "      <td>-1.096719</td>\n",
       "      <td>1.324220</td>\n",
       "      <td>-0.213470</td>\n",
       "      <td>-0.932662</td>\n",
       "      <td>-1.067363</td>\n",
       "      <td>0.234747</td>\n",
       "      <td>-0.731858</td>\n",
       "      <td>-0.467369</td>\n",
       "      <td>-0.742849</td>\n",
       "      <td>-0.426405</td>\n",
       "      <td>-0.671409</td>\n",
       "      <td>1.987683</td>\n",
       "      <td>0.935205</td>\n",
       "      <td>-0.498564</td>\n",
       "      <td>-0.995806</td>\n",
       "      <td>1.293424</td>\n",
       "      <td>-0.241674</td>\n",
       "      <td>0.534283</td>\n",
       "      <td>0.0</td>\n",
       "    </tr>\n",
       "    <tr>\n",
       "      <th>49751</th>\n",
       "      <td>-1.132933</td>\n",
       "      <td>1.451765</td>\n",
       "      <td>-0.249755</td>\n",
       "      <td>-0.973477</td>\n",
       "      <td>-1.099370</td>\n",
       "      <td>1.060794</td>\n",
       "      <td>-0.733432</td>\n",
       "      <td>-0.545714</td>\n",
       "      <td>-0.691924</td>\n",
       "      <td>-0.451157</td>\n",
       "      <td>-0.694968</td>\n",
       "      <td>0.191214</td>\n",
       "      <td>0.935205</td>\n",
       "      <td>-0.684523</td>\n",
       "      <td>-1.456474</td>\n",
       "      <td>1.865587</td>\n",
       "      <td>-0.241895</td>\n",
       "      <td>0.534283</td>\n",
       "      <td>0.0</td>\n",
       "    </tr>\n",
       "    <tr>\n",
       "      <th>49752</th>\n",
       "      <td>-1.160069</td>\n",
       "      <td>1.579301</td>\n",
       "      <td>-0.271725</td>\n",
       "      <td>-0.677320</td>\n",
       "      <td>-0.994939</td>\n",
       "      <td>-0.409290</td>\n",
       "      <td>-0.717276</td>\n",
       "      <td>-0.989344</td>\n",
       "      <td>-0.597840</td>\n",
       "      <td>-0.822308</td>\n",
       "      <td>-0.701709</td>\n",
       "      <td>-0.347840</td>\n",
       "      <td>0.935205</td>\n",
       "      <td>-0.731012</td>\n",
       "      <td>-1.436766</td>\n",
       "      <td>1.873018</td>\n",
       "      <td>-0.273510</td>\n",
       "      <td>0.534283</td>\n",
       "      <td>0.0</td>\n",
       "    </tr>\n",
       "    <tr>\n",
       "      <th>49753</th>\n",
       "      <td>-1.156466</td>\n",
       "      <td>1.579290</td>\n",
       "      <td>-0.267990</td>\n",
       "      <td>-0.607834</td>\n",
       "      <td>-0.964614</td>\n",
       "      <td>-0.210396</td>\n",
       "      <td>-0.490527</td>\n",
       "      <td>-0.211657</td>\n",
       "      <td>-0.430697</td>\n",
       "      <td>-0.105464</td>\n",
       "      <td>-0.633384</td>\n",
       "      <td>-0.099063</td>\n",
       "      <td>0.935205</td>\n",
       "      <td>-0.731012</td>\n",
       "      <td>-1.456474</td>\n",
       "      <td>1.892833</td>\n",
       "      <td>-0.269605</td>\n",
       "      <td>0.534283</td>\n",
       "      <td>0.0</td>\n",
       "    </tr>\n",
       "  </tbody>\n",
       "</table>\n",
       "<p>49754 rows × 19 columns</p>\n",
       "</div>"
      ],
      "text/plain": [
       "       wind_speed  track_distance  total_houses  rainfall_max_6h  \\\n",
       "0       -0.704686        1.420347     -0.272376        -1.175524   \n",
       "1       -0.788156        1.673016     -0.270376        -1.133698   \n",
       "2       -0.654702        1.277761     -0.272098        -1.168104   \n",
       "3       -0.700491        1.404514     -0.269193        -1.192053   \n",
       "4       -0.743750        1.531266     -0.237499        -1.188679   \n",
       "...           ...             ...           ...              ...   \n",
       "49749   -1.064795        1.196675     -0.270872        -0.918833   \n",
       "49750   -1.096719        1.324220     -0.213470        -0.932662   \n",
       "49751   -1.132933        1.451765     -0.249755        -0.973477   \n",
       "49752   -1.160069        1.579301     -0.271725        -0.677320   \n",
       "49753   -1.156466        1.579290     -0.267990        -0.607834   \n",
       "\n",
       "       rainfall_max_24h       rwi  mean_slope  std_slope  mean_tri   std_tri  \\\n",
       "0             -1.265043 -0.100972    0.691289   0.852915  1.094009  1.008363   \n",
       "1             -1.255425  1.106914    0.878330   0.504172  0.893696  0.244915   \n",
       "2             -1.229554 -1.320165    1.784406   2.153799  2.099183  2.653361   \n",
       "3             -1.257415 -0.142657    0.468673   0.648387  0.594333  0.773553   \n",
       "4             -1.272174 -0.350679    0.845817   0.509406  0.791717  0.286700   \n",
       "...                 ...       ...         ...        ...       ...       ...   \n",
       "49749         -1.028225 -1.625712    0.232948   1.047870  0.320292  1.146974   \n",
       "49750         -1.067363  0.234747   -0.731858  -0.467369 -0.742849 -0.426405   \n",
       "49751         -1.099370  1.060794   -0.733432  -0.545714 -0.691924 -0.451157   \n",
       "49752         -0.994939 -0.409290   -0.717276  -0.989344 -0.597840 -0.822308   \n",
       "49753         -0.964614 -0.210396   -0.490527  -0.211657 -0.430697 -0.105464   \n",
       "\n",
       "       mean_elev  coast_length  with_coast     urban     rural     water  \\\n",
       "0      -0.617499     -0.352036    0.935205 -0.731012 -1.510670  1.947325   \n",
       "1      -0.523135      2.853693    0.935205 -0.731012 -1.131296  1.565883   \n",
       "2      -0.429186      3.181211    0.935205 -0.731012 -1.212591  1.647621   \n",
       "3      -0.564862      2.440864    0.935205 -0.731012 -1.185493  1.620375   \n",
       "4      -0.400399      4.370635    0.935205 -0.405585 -0.264156  0.503295   \n",
       "...          ...           ...         ...       ...       ...       ...   \n",
       "49749  -0.627544     -0.546194    0.935205 -0.684523 -1.510670  1.920079   \n",
       "49750  -0.671409      1.987683    0.935205 -0.498564 -0.995806  1.293424   \n",
       "49751  -0.694968      0.191214    0.935205 -0.684523 -1.456474  1.865587   \n",
       "49752  -0.701709     -0.347840    0.935205 -0.731012 -1.436766  1.873018   \n",
       "49753  -0.633384     -0.099063    0.935205 -0.731012 -1.456474  1.892833   \n",
       "\n",
       "       total_pop  percent_houses_damaged_5years  percent_houses_damaged  \n",
       "0      -0.279989                      -0.241398                     0.0  \n",
       "1      -0.278028                      -0.241398                     0.0  \n",
       "2      -0.276812                      -0.241398                     0.0  \n",
       "3      -0.265103                      -0.241398                     0.0  \n",
       "4      -0.197596                      -0.241398                     0.0  \n",
       "...          ...                            ...                     ...  \n",
       "49749  -0.277650                       0.534283                     0.0  \n",
       "49750  -0.241674                       0.534283                     0.0  \n",
       "49751  -0.241895                       0.534283                     0.0  \n",
       "49752  -0.273510                       0.534283                     0.0  \n",
       "49753  -0.269605                       0.534283                     0.0  \n",
       "\n",
       "[49754 rows x 19 columns]"
      ]
     },
     "execution_count": 19,
     "metadata": {},
     "output_type": "execute_result"
    }
   ],
   "source": [
    "df = Load_Model('df')\n",
    "df"
   ]
  },
  {
   "cell_type": "code",
   "execution_count": 46,
   "metadata": {},
   "outputs": [
    {
     "name": "stderr",
     "output_type": "stream",
     "text": [
      "A value is trying to be set on a copy of a DataFrame or Series through chained assignment using an inplace method.\n",
      "The behavior will change in pandas 3.0. This inplace method will never work because the intermediate object on which we are setting values always behaves as a copy.\n",
      "\n",
      "For example, when doing 'df[col].method(value, inplace=True)', try using 'df.method({col: value}, inplace=True)' or df[col] = df[col].method(value) instead, to perform the operation inplace on the original object.\n",
      "\n",
      "\n",
      "A value is trying to be set on a copy of a DataFrame or Series through chained assignment using an inplace method.\n",
      "The behavior will change in pandas 3.0. This inplace method will never work because the intermediate object on which we are setting values always behaves as a copy.\n",
      "\n",
      "For example, when doing 'df[col].method(value, inplace=True)', try using 'df.method({col: value}, inplace=True)' or df[col] = df[col].method(value) instead, to perform the operation inplace on the original object.\n",
      "\n",
      "\n",
      "divide by zero encountered in log\n",
      "invalid value encountered in multiply\n"
     ]
    },
    {
     "name": "stdout",
     "output_type": "stream",
     "text": [
      "                   Generalized Linear Model Regression Results                    \n",
      "==================================================================================\n",
      "Dep. Variable:     percent_houses_damaged   No. Observations:                49754\n",
      "Model:                                GLM   Df Residuals:                    49751\n",
      "Model Family:                     Tweedie   Df Model:                            2\n",
      "Link Function:                        Log   Scale:                          11.522\n",
      "Method:                              IRLS   Log-Likelihood:                -4210.2\n",
      "Date:                    Fri, 17 May 2024   Deviance:                       79799.\n",
      "Time:                            16:20:52   Pearson chi2:                 5.73e+05\n",
      "No. Iterations:                         9   Pseudo R-squ. (CS):             0.2685\n",
      "Covariance Type:                nonrobust                                         \n",
      "==================================================================================\n",
      "                     coef    std err          z      P>|z|      [0.025      0.975]\n",
      "----------------------------------------------------------------------------------\n",
      "Intercept         -2.5640      0.063    -40.760      0.000      -2.687      -2.441\n",
      "wind_speed         1.4166      0.020     71.019      0.000       1.377       1.456\n",
      "track_distance    -0.6210      0.057    -10.926      0.000      -0.732      -0.510\n",
      "==================================================================================\n"
     ]
    }
   ],
   "source": [
    "import statsmodels.formula.api as smf\n",
    "import statsmodels.api as sm\n",
    "\n",
    "#formula = list(map(lambda x: x + \" + \", shap_list[:n]))\n",
    "formula = ' + '.join(shap_list)\n",
    "\n",
    "model = smf.glm(formula = \"percent_houses_damaged ~ \"+formula+\" + wind_speed*mean_slope\",  #~\n",
    "                data = Load_Model('df'), \n",
    "                family = sm.families.Tweedie())\n",
    "\n",
    "model = smf.glm(formula = \"percent_houses_damaged ~ wind_speed + track_distance\",# + rainfall_max_6h\",  #~\n",
    "                data = Load_Model('df'), \n",
    "                family = sm.families.Tweedie())\n",
    "\n",
    "# Fit the model\n",
    "result = model.fit()\n",
    "# Display and interpret results\n",
    "print(result.summary())\n",
    "# Estimated default probabilities\n",
    "predictions = result.predict(X_test)\n"
   ]
  },
  {
   "cell_type": "code",
   "execution_count": 47,
   "metadata": {},
   "outputs": [
    {
     "name": "stdout",
     "output_type": "stream",
     "text": [
      "MSE:  1.818968467261293\n",
      "RMSE:  1.3486913906677438\n"
     ]
    }
   ],
   "source": [
    "mse = mean_squared_error(y_testxgb, predictions)\n",
    "print(\"MSE: \", mse)\n",
    "print(\"RMSE: \", np.sqrt(mse))\n",
    "\n",
    "# 1.606875827289083\n",
    "# 1.602689514859014 incl interaction wind+slope\n",
    "# 1.410884925757567 only windspeed, rainfall 6h & track distance\n",
    "# 1.3486913906677438 only windspeed & track distance\n"
   ]
  },
  {
   "cell_type": "code",
   "execution_count": 41,
   "metadata": {},
   "outputs": [
    {
     "name": "stderr",
     "output_type": "stream",
     "text": [
      "A value is trying to be set on a copy of a DataFrame or Series through chained assignment using an inplace method.\n",
      "The behavior will change in pandas 3.0. This inplace method will never work because the intermediate object on which we are setting values always behaves as a copy.\n",
      "\n",
      "For example, when doing 'df[col].method(value, inplace=True)', try using 'df.method({col: value}, inplace=True)' or df[col] = df[col].method(value) instead, to perform the operation inplace on the original object.\n",
      "\n",
      "\n",
      "divide by zero encountered in log\n",
      "invalid value encountered in multiply\n",
      "A value is trying to be set on a copy of a DataFrame or Series through chained assignment using an inplace method.\n",
      "The behavior will change in pandas 3.0. This inplace method will never work because the intermediate object on which we are setting values always behaves as a copy.\n",
      "\n",
      "For example, when doing 'df[col].method(value, inplace=True)', try using 'df.method({col: value}, inplace=True)' or df[col] = df[col].method(value) instead, to perform the operation inplace on the original object.\n",
      "\n",
      "\n",
      "divide by zero encountered in log\n",
      "invalid value encountered in multiply\n",
      "A value is trying to be set on a copy of a DataFrame or Series through chained assignment using an inplace method.\n",
      "The behavior will change in pandas 3.0. This inplace method will never work because the intermediate object on which we are setting values always behaves as a copy.\n",
      "\n",
      "For example, when doing 'df[col].method(value, inplace=True)', try using 'df.method({col: value}, inplace=True)' or df[col] = df[col].method(value) instead, to perform the operation inplace on the original object.\n",
      "\n",
      "\n",
      "divide by zero encountered in log\n",
      "invalid value encountered in multiply\n",
      "A value is trying to be set on a copy of a DataFrame or Series through chained assignment using an inplace method.\n",
      "The behavior will change in pandas 3.0. This inplace method will never work because the intermediate object on which we are setting values always behaves as a copy.\n",
      "\n",
      "For example, when doing 'df[col].method(value, inplace=True)', try using 'df.method({col: value}, inplace=True)' or df[col] = df[col].method(value) instead, to perform the operation inplace on the original object.\n",
      "\n",
      "\n",
      "divide by zero encountered in log\n",
      "invalid value encountered in multiply\n",
      "A value is trying to be set on a copy of a DataFrame or Series through chained assignment using an inplace method.\n",
      "The behavior will change in pandas 3.0. This inplace method will never work because the intermediate object on which we are setting values always behaves as a copy.\n",
      "\n",
      "For example, when doing 'df[col].method(value, inplace=True)', try using 'df.method({col: value}, inplace=True)' or df[col] = df[col].method(value) instead, to perform the operation inplace on the original object.\n",
      "\n",
      "\n",
      "divide by zero encountered in log\n",
      "invalid value encountered in multiply\n",
      "A value is trying to be set on a copy of a DataFrame or Series through chained assignment using an inplace method.\n",
      "The behavior will change in pandas 3.0. This inplace method will never work because the intermediate object on which we are setting values always behaves as a copy.\n",
      "\n",
      "For example, when doing 'df[col].method(value, inplace=True)', try using 'df.method({col: value}, inplace=True)' or df[col] = df[col].method(value) instead, to perform the operation inplace on the original object.\n",
      "\n",
      "\n",
      "divide by zero encountered in log\n",
      "invalid value encountered in multiply\n",
      "A value is trying to be set on a copy of a DataFrame or Series through chained assignment using an inplace method.\n",
      "The behavior will change in pandas 3.0. This inplace method will never work because the intermediate object on which we are setting values always behaves as a copy.\n",
      "\n",
      "For example, when doing 'df[col].method(value, inplace=True)', try using 'df.method({col: value}, inplace=True)' or df[col] = df[col].method(value) instead, to perform the operation inplace on the original object.\n",
      "\n",
      "\n",
      "divide by zero encountered in log\n",
      "invalid value encountered in multiply\n",
      "A value is trying to be set on a copy of a DataFrame or Series through chained assignment using an inplace method.\n",
      "The behavior will change in pandas 3.0. This inplace method will never work because the intermediate object on which we are setting values always behaves as a copy.\n",
      "\n",
      "For example, when doing 'df[col].method(value, inplace=True)', try using 'df.method({col: value}, inplace=True)' or df[col] = df[col].method(value) instead, to perform the operation inplace on the original object.\n",
      "\n",
      "\n",
      "divide by zero encountered in log\n",
      "invalid value encountered in multiply\n",
      "A value is trying to be set on a copy of a DataFrame or Series through chained assignment using an inplace method.\n",
      "The behavior will change in pandas 3.0. This inplace method will never work because the intermediate object on which we are setting values always behaves as a copy.\n",
      "\n",
      "For example, when doing 'df[col].method(value, inplace=True)', try using 'df.method({col: value}, inplace=True)' or df[col] = df[col].method(value) instead, to perform the operation inplace on the original object.\n",
      "\n",
      "\n",
      "divide by zero encountered in log\n",
      "invalid value encountered in multiply\n",
      "A value is trying to be set on a copy of a DataFrame or Series through chained assignment using an inplace method.\n",
      "The behavior will change in pandas 3.0. This inplace method will never work because the intermediate object on which we are setting values always behaves as a copy.\n",
      "\n",
      "For example, when doing 'df[col].method(value, inplace=True)', try using 'df.method({col: value}, inplace=True)' or df[col] = df[col].method(value) instead, to perform the operation inplace on the original object.\n",
      "\n",
      "\n",
      "divide by zero encountered in log\n",
      "invalid value encountered in multiply\n",
      "A value is trying to be set on a copy of a DataFrame or Series through chained assignment using an inplace method.\n",
      "The behavior will change in pandas 3.0. This inplace method will never work because the intermediate object on which we are setting values always behaves as a copy.\n",
      "\n",
      "For example, when doing 'df[col].method(value, inplace=True)', try using 'df.method({col: value}, inplace=True)' or df[col] = df[col].method(value) instead, to perform the operation inplace on the original object.\n",
      "\n",
      "\n",
      "divide by zero encountered in log\n",
      "invalid value encountered in multiply\n",
      "A value is trying to be set on a copy of a DataFrame or Series through chained assignment using an inplace method.\n",
      "The behavior will change in pandas 3.0. This inplace method will never work because the intermediate object on which we are setting values always behaves as a copy.\n",
      "\n",
      "For example, when doing 'df[col].method(value, inplace=True)', try using 'df.method({col: value}, inplace=True)' or df[col] = df[col].method(value) instead, to perform the operation inplace on the original object.\n",
      "\n",
      "\n",
      "divide by zero encountered in log\n",
      "invalid value encountered in multiply\n",
      "A value is trying to be set on a copy of a DataFrame or Series through chained assignment using an inplace method.\n",
      "The behavior will change in pandas 3.0. This inplace method will never work because the intermediate object on which we are setting values always behaves as a copy.\n",
      "\n",
      "For example, when doing 'df[col].method(value, inplace=True)', try using 'df.method({col: value}, inplace=True)' or df[col] = df[col].method(value) instead, to perform the operation inplace on the original object.\n",
      "\n",
      "\n",
      "divide by zero encountered in log\n",
      "invalid value encountered in multiply\n",
      "A value is trying to be set on a copy of a DataFrame or Series through chained assignment using an inplace method.\n",
      "The behavior will change in pandas 3.0. This inplace method will never work because the intermediate object on which we are setting values always behaves as a copy.\n",
      "\n",
      "For example, when doing 'df[col].method(value, inplace=True)', try using 'df.method({col: value}, inplace=True)' or df[col] = df[col].method(value) instead, to perform the operation inplace on the original object.\n",
      "\n",
      "\n",
      "divide by zero encountered in log\n",
      "invalid value encountered in multiply\n",
      "A value is trying to be set on a copy of a DataFrame or Series through chained assignment using an inplace method.\n",
      "The behavior will change in pandas 3.0. This inplace method will never work because the intermediate object on which we are setting values always behaves as a copy.\n",
      "\n",
      "For example, when doing 'df[col].method(value, inplace=True)', try using 'df.method({col: value}, inplace=True)' or df[col] = df[col].method(value) instead, to perform the operation inplace on the original object.\n",
      "\n",
      "\n",
      "divide by zero encountered in log\n",
      "invalid value encountered in multiply\n",
      "A value is trying to be set on a copy of a DataFrame or Series through chained assignment using an inplace method.\n",
      "The behavior will change in pandas 3.0. This inplace method will never work because the intermediate object on which we are setting values always behaves as a copy.\n",
      "\n",
      "For example, when doing 'df[col].method(value, inplace=True)', try using 'df.method({col: value}, inplace=True)' or df[col] = df[col].method(value) instead, to perform the operation inplace on the original object.\n",
      "\n",
      "\n",
      "divide by zero encountered in log\n",
      "invalid value encountered in multiply\n",
      "A value is trying to be set on a copy of a DataFrame or Series through chained assignment using an inplace method.\n",
      "The behavior will change in pandas 3.0. This inplace method will never work because the intermediate object on which we are setting values always behaves as a copy.\n",
      "\n",
      "For example, when doing 'df[col].method(value, inplace=True)', try using 'df.method({col: value}, inplace=True)' or df[col] = df[col].method(value) instead, to perform the operation inplace on the original object.\n",
      "\n",
      "\n",
      "divide by zero encountered in log\n",
      "invalid value encountered in multiply\n",
      "A value is trying to be set on a copy of a DataFrame or Series through chained assignment using an inplace method.\n",
      "The behavior will change in pandas 3.0. This inplace method will never work because the intermediate object on which we are setting values always behaves as a copy.\n",
      "\n",
      "For example, when doing 'df[col].method(value, inplace=True)', try using 'df.method({col: value}, inplace=True)' or df[col] = df[col].method(value) instead, to perform the operation inplace on the original object.\n",
      "\n",
      "\n",
      "divide by zero encountered in log\n",
      "invalid value encountered in multiply\n"
     ]
    },
    {
     "data": {
      "text/plain": [
       "Text(0.5, 1.0, 'RMSE vs Number of Features')"
      ]
     },
     "execution_count": 41,
     "metadata": {},
     "output_type": "execute_result"
    },
    {
     "data": {
      "image/png": "[encoded data removed]",
      "text/plain": [
       "<Figure size 640x480 with 1 Axes>"
      ]
     },
     "metadata": {},
     "output_type": "display_data"
    }
   ],
   "source": [
    "# GLM with different number of features\n",
    "rmse_list = []\n",
    "for n in range(1, len(shap_list)+1):\n",
    "    formula = ' + '.join(shap_list[:n])\n",
    "    model = smf.glm(formula = \"percent_houses_damaged ~ \"+formula, \n",
    "                data = Load_Model('df'), \n",
    "                family = sm.families.Tweedie())\n",
    "    # Fit the model\n",
    "    result = model.fit()\n",
    "    # Display and interpret results\n",
    "    #print(result.summary())\n",
    "    # Estimated default probabilities\n",
    "    predictions = result.predict(X_test)\n",
    "    mse = mean_squared_error(y_testxgb, predictions)\n",
    "    rmse = np.sqrt(mse)\n",
    "    rmse_list.append(rmse)\n",
    "\n",
    "#plot\n",
    "import matplotlib.pyplot as plt\n",
    "plt.plot(rmse_list)\n",
    "plt.xlabel('Number of Features')\n",
    "plt.xticks(range(len(shap_list)), list(range(1,19)))\n",
    "plt.ylabel('RMSE')\n",
    "plt.title('RMSE vs Number of Features')"
   ]
  },
  {
   "cell_type": "markdown",
   "metadata": {},
   "source": [
    "## Decision Tree"
   ]
  },
  {
   "cell_type": "code",
   "execution_count": 26,
   "metadata": {},
   "outputs": [
    {
     "name": "stdout",
     "output_type": "stream",
     "text": [
      "MSE:  0.984335079668483\n",
      "RMSE:  0.992136623489166\n"
     ]
    }
   ],
   "source": [
    "# decision tree\n",
    "from sklearn.tree import DecisionTreeRegressor\n",
    "dt = DecisionTreeRegressor(max_depth=4)\n",
    "dt.fit(X_train, y_trainxgb)\n",
    "y_pred = dt.predict(X_test)\n",
    "mse = mean_squared_error(y_testxgb, y_pred)\n",
    "print(\"MSE: \", mse)\n",
    "rmse = np.sqrt(mse)\n",
    "print(\"RMSE: \", rmse)"
   ]
  },
  {
   "cell_type": "code",
   "execution_count": 25,
   "metadata": {},
   "outputs": [
    {
     "data": {
      "text/plain": [
       "[Text(0.5, 0.875, 'wind_speed <= 2.917\\nsquared_error = 15.2\\nsamples = 39803\\nvalue = 0.827'),\n",
       " Text(0.25, 0.625, 'wind_speed <= 2.124\\nsquared_error = 2.407\\nsamples = 39321\\nvalue = 0.471'),\n",
       " Text(0.125, 0.375, 'wind_speed <= 1.374\\nsquared_error = 0.548\\nsamples = 37948\\nvalue = 0.261'),\n",
       " Text(0.0625, 0.125, 'squared_error = 0.154\\nsamples = 35175\\nvalue = 0.121'),\n",
       " Text(0.1875, 0.125, 'squared_error = 2.162\\nsamples = 2773\\nvalue = 2.033'),\n",
       " Text(0.375, 0.375, 'wind_speed <= 2.502\\nsquared_error = 18.936\\nsamples = 1373\\nvalue = 6.271'),\n",
       " Text(0.3125, 0.125, 'squared_error = 6.311\\nsamples = 773\\nvalue = 4.38'),\n",
       " Text(0.4375, 0.125, 'squared_error = 24.662\\nsamples = 600\\nvalue = 8.707'),\n",
       " Text(0.75, 0.625, 'wind_speed <= 3.602\\nsquared_error = 203.14\\nsamples = 482\\nvalue = 29.902'),\n",
       " Text(0.625, 0.375, 'percent_houses_damaged_5years <= -0.142\\nsquared_error = 79.615\\nsamples = 346\\nvalue = 24.053'),\n",
       " Text(0.5625, 0.125, 'squared_error = 57.754\\nsamples = 262\\nvalue = 21.865'),\n",
       " Text(0.6875, 0.125, 'squared_error = 86.322\\nsamples = 84\\nvalue = 30.876'),\n",
       " Text(0.875, 0.375, 'wind_speed <= 3.988\\nsquared_error = 208.962\\nsamples = 136\\nvalue = 44.782'),\n",
       " Text(0.8125, 0.125, 'squared_error = 122.088\\nsamples = 99\\nvalue = 39.037'),\n",
       " Text(0.9375, 0.125, 'squared_error = 116.881\\nsamples = 37\\nvalue = 60.152')]"
      ]
     },
     "execution_count": 25,
     "metadata": {},
     "output_type": "execute_result"
    },
    {
     "data": {
      "image/png": "[encoded data removed]",
      "text/plain": [
       "<Figure size 2000x1000 with 1 Axes>"
      ]
     },
     "metadata": {},
     "output_type": "display_data"
    }
   ],
   "source": [
    "from sklearn.tree import plot_tree\n",
    "import matplotlib.pyplot as plt\n",
    "plt.figure(figsize=(20,10))\n",
    "plot_tree(dt, feature_names=features, filled=True, fontsize=8)"
   ]
  },
  {
   "cell_type": "code",
   "execution_count": 69,
   "metadata": {},
   "outputs": [
    {
     "name": "stdout",
     "output_type": "stream",
     "text": [
      "MSE:  0.6413204173504323\n",
      "RMSE:  0.8008248356228922\n"
     ]
    }
   ],
   "source": [
    "# decision tree\n",
    "from sklearn.tree import DecisionTreeRegressor\n",
    "dt = DecisionTreeRegressor(max_depth=7)\n",
    "dt.fit(X_train, y_trainxgb)\n",
    "y_pred = dt.predict(X_test)\n",
    "mse = mean_squared_error(y_testxgb, y_pred)\n",
    "print(\"MSE: \", mse)\n",
    "rmse = np.sqrt(mse)\n",
    "print(\"RMSE: \", rmse)"
   ]
  },
  {
   "cell_type": "markdown",
   "metadata": {},
   "source": [
    "### On original y values"
   ]
  },
  {
   "cell_type": "code",
   "execution_count": 187,
   "metadata": {},
   "outputs": [
    {
     "name": "stdout",
     "output_type": "stream",
     "text": [
      "MSE:  13.251587812434389\n",
      "RMSE:  3.6402730409180006\n"
     ]
    }
   ],
   "source": [
    "# decision tree on original y values\n",
    "from sklearn.tree import DecisionTreeRegressor\n",
    "dt = DecisionTreeRegressor(max_depth=4)\n",
    "dt.fit(X_train, y_train)\n",
    "y_pred = dt.predict(X_test)\n",
    "mse = mean_squared_error(y_test, y_pred)\n",
    "print(\"MSE: \", mse)\n",
    "rmse = np.sqrt(mse)\n",
    "print(\"RMSE: \", rmse)"
   ]
  },
  {
   "cell_type": "code",
   "execution_count": 188,
   "metadata": {},
   "outputs": [
    {
     "name": "stdout",
     "output_type": "stream",
     "text": [
      "Bin:  [0, 9e-05]  RMSE:  0.9925038591225988\n",
      "Bin:  [9e-05, 1]  RMSE:  1.961011565538381\n",
      "Bin:  [1, 10]  RMSE:  5.899085131351293\n",
      "Bin:  [10, 50]  RMSE:  15.727146918700095\n",
      "Bin:  [50, 1000]  RMSE:  43.601700789700665\n",
      "Total RSME 3.6402730409180006\n"
     ]
    },
    {
     "data": {
      "text/plain": [
       "[[[0, 9e-05], 0.9850639103732514, 0.9925038591225988],\n",
       " [[9e-05, 1], 3.8455663601752925, 1.961011565538381],\n",
       " [[1, 10], 34.7992053869299, 5.899085131351293],\n",
       " [[10, 50], 247.34315020237787, 15.727146918700095],\n",
       " [[50, 1000], 1901.1083117545834, 43.601700789700665]]"
      ]
     },
     "execution_count": 188,
     "metadata": {},
     "output_type": "execute_result"
    }
   ],
   "source": [
    "eval_bins(y_pred, y_test, y_test)"
   ]
  },
  {
   "cell_type": "markdown",
   "metadata": {},
   "source": [
    "## Others"
   ]
  },
  {
   "cell_type": "code",
   "execution_count": 37,
   "metadata": {},
   "outputs": [
    {
     "name": "stdout",
     "output_type": "stream",
     "text": [
      "MSE:  10.651125639782041\n",
      "RMSE:  3.263606232342076\n"
     ]
    }
   ],
   "source": [
    "# elastic net\n",
    "from sklearn.linear_model import ElasticNet\n",
    "en = ElasticNet()\n",
    "en.fit(X_train, y_trainxgb)\n",
    "y_pred = en.predict(X_test)\n",
    "mse = mean_squared_error(y_testxgb, y_pred)\n",
    "print(\"MSE: \", mse)\n",
    "rmse = np.sqrt(mse)\n",
    "print(\"RMSE: \", rmse)"
   ]
  },
  {
   "cell_type": "markdown",
   "metadata": {},
   "source": [
    "# Evaluate Performance per bin"
   ]
  },
  {
   "cell_type": "code",
   "execution_count": 38,
   "metadata": {},
   "outputs": [
    {
     "data": {
      "text/html": [
       "<div>\n",
       "<style scoped>\n",
       "    .dataframe tbody tr th:only-of-type {\n",
       "        vertical-align: middle;\n",
       "    }\n",
       "\n",
       "    .dataframe tbody tr th {\n",
       "        vertical-align: top;\n",
       "    }\n",
       "\n",
       "    .dataframe thead th {\n",
       "        text-align: right;\n",
       "    }\n",
       "</style>\n",
       "<table border=\"1\" class=\"dataframe\">\n",
       "  <thead>\n",
       "    <tr style=\"text-align: right;\">\n",
       "      <th></th>\n",
       "      <th>percent_houses_damaged</th>\n",
       "    </tr>\n",
       "  </thead>\n",
       "  <tbody>\n",
       "    <tr>\n",
       "      <th>50005</th>\n",
       "      <td>0.000000</td>\n",
       "    </tr>\n",
       "    <tr>\n",
       "      <th>20438</th>\n",
       "      <td>0.083553</td>\n",
       "    </tr>\n",
       "    <tr>\n",
       "      <th>93739</th>\n",
       "      <td>0.000000</td>\n",
       "    </tr>\n",
       "    <tr>\n",
       "      <th>119845</th>\n",
       "      <td>0.000000</td>\n",
       "    </tr>\n",
       "    <tr>\n",
       "      <th>101875</th>\n",
       "      <td>0.000000</td>\n",
       "    </tr>\n",
       "  </tbody>\n",
       "</table>\n",
       "</div>"
      ],
      "text/plain": [
       "        percent_houses_damaged\n",
       "50005                 0.000000\n",
       "20438                 0.083553\n",
       "93739                 0.000000\n",
       "119845                0.000000\n",
       "101875                0.000000"
      ]
     },
     "execution_count": 38,
     "metadata": {},
     "output_type": "execute_result"
    }
   ],
   "source": [
    "pd.DataFrame(y_test).head()"
   ]
  },
  {
   "cell_type": "code",
   "execution_count": 39,
   "metadata": {},
   "outputs": [
    {
     "data": {
      "text/html": [
       "<div>\n",
       "<style scoped>\n",
       "    .dataframe tbody tr th:only-of-type {\n",
       "        vertical-align: middle;\n",
       "    }\n",
       "\n",
       "    .dataframe tbody tr th {\n",
       "        vertical-align: top;\n",
       "    }\n",
       "\n",
       "    .dataframe thead th {\n",
       "        text-align: right;\n",
       "    }\n",
       "</style>\n",
       "<table border=\"1\" class=\"dataframe\">\n",
       "  <thead>\n",
       "    <tr style=\"text-align: right;\">\n",
       "      <th></th>\n",
       "      <th>wind_speed</th>\n",
       "      <th>track_distance</th>\n",
       "      <th>total_houses</th>\n",
       "      <th>rainfall_max_6h</th>\n",
       "      <th>rainfall_max_24h</th>\n",
       "      <th>rwi</th>\n",
       "      <th>mean_slope</th>\n",
       "      <th>std_slope</th>\n",
       "      <th>mean_tri</th>\n",
       "      <th>std_tri</th>\n",
       "      <th>mean_elev</th>\n",
       "      <th>coast_length</th>\n",
       "      <th>with_coast</th>\n",
       "      <th>urban</th>\n",
       "      <th>rural</th>\n",
       "      <th>water</th>\n",
       "      <th>total_pop</th>\n",
       "      <th>percent_houses_damaged_5years</th>\n",
       "    </tr>\n",
       "  </thead>\n",
       "  <tbody>\n",
       "    <tr>\n",
       "      <th>0</th>\n",
       "      <td>-0.856555</td>\n",
       "      <td>1.171554</td>\n",
       "      <td>1.135117</td>\n",
       "      <td>-0.622338</td>\n",
       "      <td>-0.614954</td>\n",
       "      <td>1.760951</td>\n",
       "      <td>-1.253141</td>\n",
       "      <td>-1.761114</td>\n",
       "      <td>-1.230703</td>\n",
       "      <td>-1.630404</td>\n",
       "      <td>-0.736261</td>\n",
       "      <td>1.419780</td>\n",
       "      <td>0.935205</td>\n",
       "      <td>2.616238</td>\n",
       "      <td>-0.995806</td>\n",
       "      <td>-0.532048</td>\n",
       "      <td>0.976106</td>\n",
       "      <td>-0.240661</td>\n",
       "    </tr>\n",
       "    <tr>\n",
       "      <th>1</th>\n",
       "      <td>-0.721854</td>\n",
       "      <td>1.615811</td>\n",
       "      <td>-0.266746</td>\n",
       "      <td>-0.775814</td>\n",
       "      <td>-0.955256</td>\n",
       "      <td>0.052833</td>\n",
       "      <td>-0.511528</td>\n",
       "      <td>-0.355795</td>\n",
       "      <td>-0.415348</td>\n",
       "      <td>-0.231075</td>\n",
       "      <td>-0.667434</td>\n",
       "      <td>1.360675</td>\n",
       "      <td>0.935205</td>\n",
       "      <td>-0.731012</td>\n",
       "      <td>-1.348081</td>\n",
       "      <td>1.783850</td>\n",
       "      <td>-0.273998</td>\n",
       "      <td>-0.241398</td>\n",
       "    </tr>\n",
       "    <tr>\n",
       "      <th>2</th>\n",
       "      <td>-0.707059</td>\n",
       "      <td>1.334032</td>\n",
       "      <td>-0.251563</td>\n",
       "      <td>-1.082427</td>\n",
       "      <td>-1.104843</td>\n",
       "      <td>0.144409</td>\n",
       "      <td>-0.841787</td>\n",
       "      <td>-1.132003</td>\n",
       "      <td>-0.812952</td>\n",
       "      <td>-1.061138</td>\n",
       "      <td>-0.695688</td>\n",
       "      <td>0.269003</td>\n",
       "      <td>0.935205</td>\n",
       "      <td>-0.731012</td>\n",
       "      <td>-1.429376</td>\n",
       "      <td>1.865587</td>\n",
       "      <td>-0.262936</td>\n",
       "      <td>-0.241398</td>\n",
       "    </tr>\n",
       "    <tr>\n",
       "      <th>3</th>\n",
       "      <td>2.279204</td>\n",
       "      <td>-1.611215</td>\n",
       "      <td>2.719272</td>\n",
       "      <td>0.107935</td>\n",
       "      <td>0.628674</td>\n",
       "      <td>3.635261</td>\n",
       "      <td>-0.886581</td>\n",
       "      <td>0.055877</td>\n",
       "      <td>-0.924670</td>\n",
       "      <td>0.161881</td>\n",
       "      <td>-0.583968</td>\n",
       "      <td>0.649223</td>\n",
       "      <td>0.935205</td>\n",
       "      <td>1.872405</td>\n",
       "      <td>-1.293885</td>\n",
       "      <td>0.203590</td>\n",
       "      <td>2.745908</td>\n",
       "      <td>-0.128161</td>\n",
       "    </tr>\n",
       "    <tr>\n",
       "      <th>4</th>\n",
       "      <td>-0.640732</td>\n",
       "      <td>-0.426439</td>\n",
       "      <td>0.013277</td>\n",
       "      <td>-0.354515</td>\n",
       "      <td>-0.217106</td>\n",
       "      <td>0.403683</td>\n",
       "      <td>-0.101521</td>\n",
       "      <td>0.727710</td>\n",
       "      <td>-0.090182</td>\n",
       "      <td>0.772969</td>\n",
       "      <td>-0.011754</td>\n",
       "      <td>-0.657215</td>\n",
       "      <td>-1.069284</td>\n",
       "      <td>-0.266117</td>\n",
       "      <td>0.928162</td>\n",
       "      <td>-0.777261</td>\n",
       "      <td>-0.147534</td>\n",
       "      <td>-0.241248</td>\n",
       "    </tr>\n",
       "  </tbody>\n",
       "</table>\n",
       "</div>"
      ],
      "text/plain": [
       "   wind_speed  track_distance  total_houses  rainfall_max_6h  \\\n",
       "0   -0.856555        1.171554      1.135117        -0.622338   \n",
       "1   -0.721854        1.615811     -0.266746        -0.775814   \n",
       "2   -0.707059        1.334032     -0.251563        -1.082427   \n",
       "3    2.279204       -1.611215      2.719272         0.107935   \n",
       "4   -0.640732       -0.426439      0.013277        -0.354515   \n",
       "\n",
       "   rainfall_max_24h       rwi  mean_slope  std_slope  mean_tri   std_tri  \\\n",
       "0         -0.614954  1.760951   -1.253141  -1.761114 -1.230703 -1.630404   \n",
       "1         -0.955256  0.052833   -0.511528  -0.355795 -0.415348 -0.231075   \n",
       "2         -1.104843  0.144409   -0.841787  -1.132003 -0.812952 -1.061138   \n",
       "3          0.628674  3.635261   -0.886581   0.055877 -0.924670  0.161881   \n",
       "4         -0.217106  0.403683   -0.101521   0.727710 -0.090182  0.772969   \n",
       "\n",
       "   mean_elev  coast_length  with_coast     urban     rural     water  \\\n",
       "0  -0.736261      1.419780    0.935205  2.616238 -0.995806 -0.532048   \n",
       "1  -0.667434      1.360675    0.935205 -0.731012 -1.348081  1.783850   \n",
       "2  -0.695688      0.269003    0.935205 -0.731012 -1.429376  1.865587   \n",
       "3  -0.583968      0.649223    0.935205  1.872405 -1.293885  0.203590   \n",
       "4  -0.011754     -0.657215   -1.069284 -0.266117  0.928162 -0.777261   \n",
       "\n",
       "   total_pop  percent_houses_damaged_5years  \n",
       "0   0.976106                      -0.240661  \n",
       "1  -0.273998                      -0.241398  \n",
       "2  -0.262936                      -0.241398  \n",
       "3   2.745908                      -0.128161  \n",
       "4  -0.147534                      -0.241248  "
      ]
     },
     "execution_count": 39,
     "metadata": {},
     "output_type": "execute_result"
    }
   ],
   "source": [
    "y_train_df = pd.DataFrame(y_train)\n",
    "X_train_df.head()"
   ]
  },
  {
   "cell_type": "code",
   "execution_count": 40,
   "metadata": {},
   "outputs": [
    {
     "data": {
      "text/plain": [
       "Text(0.5, 1.0, 'Target variable bins')"
      ]
     },
     "execution_count": 40,
     "metadata": {},
     "output_type": "execute_result"
    },
    {
     "data": {
      "image/png": "[encoded data removed]",
      "text/plain": [
       "<Figure size 640x480 with 1 Axes>"
      ]
     },
     "metadata": {},
     "output_type": "display_data"
    }
   ],
   "source": [
    "# histogram y_train\n",
    "import matplotlib.pyplot as plt\n",
    "bins = [[0, 0.00009], [0.00009, 1], [1,10],[10,50], [50,100]]\n",
    "\n",
    "# create table with count of y_train values in each bin\n",
    "y_train_df = pd.DataFrame(y_train)\n",
    "y_train_df['bins'] = None\n",
    "for v in bins:\n",
    "    y_train_df.loc[(y_train_df['percent_houses_damaged'] >= v[0]) & (y_train_df['percent_houses_damaged'] <= v[1]), 'bins'] = str(v)\n",
    "y_train_df['bins'].value_counts().plot(kind='bar') \n",
    "plt.title(\"Target variable bins\")"
   ]
  },
  {
   "cell_type": "code",
   "execution_count": 244,
   "metadata": {},
   "outputs": [],
   "source": [
    "def eval_bins(ypred, ytrue, ybins):\n",
    "    bins = [[0, 0.00009], [0.00009, 1], [1,10],[10,50], [50,1000]]\n",
    "\n",
    "    ypred, ytrue, ybins = np.array(ypred), np.array(ytrue), np.array(ybins)\n",
    "\n",
    "    y_df = pd.DataFrame(np.array(ybins), columns=['y_bins'])\n",
    "    y_df['y_pred'] = ypred\n",
    "    y_df['y_true'] = ytrue\n",
    "    y_df['bins'] = None\n",
    "    for v in bins:\n",
    "        y_df.loc[(y_df['y_bins'] >= v[0]) & (y_df['y_bins'] <= v[1]), 'bins'] = str(v)\n",
    "\n",
    "    eval = []\n",
    "    for v in bins:\n",
    "        if y_df[y_df['bins'] == str(v)].shape[0] == 0:\n",
    "            continue\n",
    "        y_v = y_df[y_df['bins'] == str(v)]\n",
    "        mse = mean_squared_error(y_v['y_true'], y_v['y_pred'])\n",
    "        rmse = np.sqrt(mse)\n",
    "\n",
    "        #MAE\n",
    "        mae = np.mean(np.abs(y_v['y_true'] - y_v['y_pred']))\n",
    "\n",
    "        eval.append([v, mse, rmse, mae])\n",
    "\n",
    "        print(\"Bin: {:<15} RMSE: {:.3f}, MAE: {:.3f}\".format(str(v), rmse, mae))\n",
    "\n",
    "    print(\"Total RSME\", np.sqrt(mean_squared_error(y_df['y_true'], y_df['y_pred'])))\n",
    "\n",
    "    return eval"
   ]
  },
  {
   "cell_type": "code",
   "execution_count": 229,
   "metadata": {},
   "outputs": [],
   "source": [
    "# Linear Regression RSME for each bin\n",
    "from sklearn.linear_model import LinearRegression\n",
    "from sklearn.metrics import mean_squared_error\n",
    "lr = LinearRegression()\n",
    "lr.fit(X_train, y_trainxgb)\n",
    "y_pred = lr.predict(X_test)\n",
    "\n",
    "# y_test_df = pd.DataFrame(np.array(y_test), columns = ['percent_houses_damaged'])\n",
    "# y_test_df\n",
    "# y_test_df[\"y_testxgb\"] = y_testxgb\n",
    "# y_test_df['bins'] = None\n",
    "# for v in bins:\n",
    "#     y_test_df.loc[(y_test_df['percent_houses_damaged'] >= v[0]) & (y_test_df['percent_houses_damaged'] <= v[1]), 'bins'] = str(v)\n",
    "# y_test_df[\"y_pred_LR\"] = y_pred\n",
    "\n",
    "# for v in bins:\n",
    "#     y_test_df_v = y_test_df[y_test_df['bins'] == str(v)]\n",
    "#     mse = mean_squared_error(y_test_df_v['y_testxgb'], y_test_df_v['y_pred_LR'])\n",
    "#     rmse = np.sqrt(mse)\n",
    "#     print(\"Bin: \", v, \" RMSE: \", rmse)\n",
    "\n",
    "# print(\"Total RSME\", np.sqrt(mean_squared_error(y_test_df['y_testxgb'], y_test_df['y_pred_LR'])))"
   ]
  },
  {
   "cell_type": "code",
   "execution_count": 245,
   "metadata": {},
   "outputs": [
    {
     "name": "stdout",
     "output_type": "stream",
     "text": [
      "Bin: [0, 9e-05]      RMSE: 1.497, MAE: 1.074\n",
      "Bin: [9e-05, 1]      RMSE: 2.164, MAE: 1.698\n",
      "Bin: [1, 10]         RMSE: 3.704, MAE: 2.526\n",
      "Bin: [10, 50]        RMSE: 14.032, MAE: 9.122\n",
      "Bin: [50, 1000]      RMSE: 28.513, MAE: 23.024\n",
      "Total RSME 3.027593887105412\n"
     ]
    },
    {
     "data": {
      "text/plain": [
       "[[[0, 9e-05], 2.241614609433083, 1.4972022606959565, 1.0743891862130817],\n",
       " [[9e-05, 1], 4.683767833791299, 2.16420143096508, 1.697591343420735],\n",
       " [[1, 10], 13.716852910956025, 3.703626994036525, 2.5259108840093347],\n",
       " [[10, 50], 196.88541943900324, 14.031586490450866, 9.122146234064356],\n",
       " [[50, 1000], 813.0181462819087, 28.513473065936893, 23.023955912682815]]"
      ]
     },
     "execution_count": 245,
     "metadata": {},
     "output_type": "execute_result"
    }
   ],
   "source": [
    "eval_bins(y_pred, y_testxgb, y_test)"
   ]
  },
  {
   "cell_type": "code",
   "execution_count": 246,
   "metadata": {},
   "outputs": [
    {
     "name": "stdout",
     "output_type": "stream",
     "text": [
      "Bin: [0, 9e-05]      RMSE: 0.445, MAE: 0.145\n",
      "Bin: [9e-05, 1]      RMSE: 0.807, MAE: 0.399\n",
      "Bin: [1, 10]         RMSE: 1.954, MAE: 1.122\n",
      "Bin: [10, 50]        RMSE: 4.675, MAE: 3.275\n",
      "Bin: [50, 1000]      RMSE: 7.168, MAE: 5.156\n",
      "Total RSME 1.000711746263956\n"
     ]
    },
    {
     "data": {
      "text/plain": [
       "[[[0, 9e-05], 0.19819492528121813, 0.44519088634114934, 0.14549383568882826],\n",
       " [[9e-05, 1], 0.6505010044054105, 0.8065364247232796, 0.39868617369358245],\n",
       " [[1, 10], 3.8191116749915146, 1.9542547620490822, 1.1220217321469579],\n",
       " [[10, 50], 21.859690323695396, 4.675434773761195, 3.2746360310181064],\n",
       " [[50, 1000], 51.38445099856264, 7.168294845956229, 5.156324227443579]]"
      ]
     },
     "execution_count": 246,
     "metadata": {},
     "output_type": "execute_result"
    }
   ],
   "source": [
    "# Decision Tree RSME for each bin\n",
    "from sklearn.tree import DecisionTreeRegressor\n",
    "dt = DecisionTreeRegressor(max_depth=4)\n",
    "dt.fit(X_train, y_trainxgb)\n",
    "y_pred = dt.predict(X_test)\n",
    "\n",
    "eval_bins(y_pred, y_testxgb, y_test)"
   ]
  },
  {
   "cell_type": "code",
   "execution_count": 247,
   "metadata": {},
   "outputs": [
    {
     "name": "stdout",
     "output_type": "stream",
     "text": [
      "Bin: [0, 9e-05]      RMSE: 0.466, MAE: 0.188\n",
      "Bin: [9e-05, 1]      RMSE: 0.926, MAE: 0.444\n",
      "Bin: [1, 10]         RMSE: 2.495, MAE: 1.317\n",
      "Bin: [10, 50]        RMSE: 5.334, MAE: 3.790\n",
      "Bin: [50, 1000]      RMSE: 7.490, MAE: 6.062\n",
      "Total RSME 1.1428468056467276\n"
     ]
    },
    {
     "data": {
      "text/plain": [
       "[[[0, 9e-05], 0.21738210752614742, 0.46624254152334427, 0.1879465910392049],\n",
       " [[9e-05, 1], 0.8571344556759586, 0.9258155624507284, 0.44409485098527324],\n",
       " [[1, 10], 6.225583225898218, 2.495111866409644, 1.3170827464089399],\n",
       " [[10, 50], 28.451934746162276, 5.3340355028966835, 3.7903093261734897],\n",
       " [[50, 1000], 56.09750490920579, 7.489826760960883, 6.061532415484884]]"
      ]
     },
     "execution_count": 247,
     "metadata": {},
     "output_type": "execute_result"
    }
   ],
   "source": [
    "# Decision Tree RSME for each bin\n",
    "from sklearn.tree import DecisionTreeRegressor\n",
    "dt = DecisionTreeRegressor(max_depth=3)\n",
    "dt.fit(X_train, y_trainxgb)\n",
    "y_pred = dt.predict(X_test)\n",
    "\n",
    "eval_bins(y_pred, y_testxgb, y_test)"
   ]
  },
  {
   "cell_type": "markdown",
   "metadata": {},
   "source": [
    "# Function based tree\n",
    "## EDA - Partial dependence plots"
   ]
  },
  {
   "cell_type": "code",
   "execution_count": 44,
   "metadata": {},
   "outputs": [
    {
     "data": {
      "text/plain": [
       "['wind_speed',\n",
       " 'track_distance',\n",
       " 'total_houses',\n",
       " 'rainfall_max_6h',\n",
       " 'rainfall_max_24h',\n",
       " 'rwi',\n",
       " 'mean_slope',\n",
       " 'std_slope',\n",
       " 'mean_tri',\n",
       " 'std_tri',\n",
       " 'mean_elev',\n",
       " 'coast_length',\n",
       " 'with_coast',\n",
       " 'urban',\n",
       " 'rural',\n",
       " 'water',\n",
       " 'total_pop',\n",
       " 'percent_houses_damaged_5years']"
      ]
     },
     "execution_count": 44,
     "metadata": {},
     "output_type": "execute_result"
    }
   ],
   "source": [
    "features"
   ]
  },
  {
   "cell_type": "code",
   "execution_count": 30,
   "metadata": {},
   "outputs": [
    {
     "data": {
      "image/png": "[encoded data removed]",
      "text/plain": [
       "<Figure size 1200x600 with 7 Axes>"
      ]
     },
     "metadata": {},
     "output_type": "display_data"
    }
   ],
   "source": [
    "import numpy as np\n",
    "import matplotlib.pyplot as plt\n",
    "\n",
    "from sklearn.inspection import PartialDependenceDisplay\n",
    "from sklearn.inspection import partial_dependence\n",
    "\n",
    "fig, ax = plt.subplots(figsize=(12, 6))\n",
    "# show grid\n",
    "ax.grid(True)\n",
    "display = PartialDependenceDisplay.from_estimator( model, X_train_df, [\"wind_speed\", \"track_distance\", \"rainfall_max_6h\", \"percent_houses_damaged_5years\", \"rwi\", \"rainfall_max_24h\"], ax=ax)\n",
    "#plt.show()"
   ]
  },
  {
   "cell_type": "code",
   "execution_count": 29,
   "metadata": {},
   "outputs": [
    {
     "data": {
      "image/png": "[encoded data removed]",
      "text/plain": [
       "<Figure size 1200x600 with 3 Axes>"
      ]
     },
     "metadata": {},
     "output_type": "display_data"
    }
   ],
   "source": [
    "fig, ax = plt.subplots(figsize=(12, 6))\n",
    "display = PartialDependenceDisplay.from_estimator( model, X_train_df, [(\"wind_speed\", \"track_distance\"), (\"wind_speed\", \"rainfall_max_6h\")], ax=ax)"
   ]
  },
  {
   "cell_type": "code",
   "execution_count": 45,
   "metadata": {},
   "outputs": [
    {
     "data": {
      "text/html": [
       "<div>\n",
       "<style scoped>\n",
       "    .dataframe tbody tr th:only-of-type {\n",
       "        vertical-align: middle;\n",
       "    }\n",
       "\n",
       "    .dataframe tbody tr th {\n",
       "        vertical-align: top;\n",
       "    }\n",
       "\n",
       "    .dataframe thead th {\n",
       "        text-align: right;\n",
       "    }\n",
       "</style>\n",
       "<table border=\"1\" class=\"dataframe\">\n",
       "  <thead>\n",
       "    <tr style=\"text-align: right;\">\n",
       "      <th></th>\n",
       "      <th>0</th>\n",
       "    </tr>\n",
       "  </thead>\n",
       "  <tbody>\n",
       "    <tr>\n",
       "      <th>0</th>\n",
       "      <td>-0.030171</td>\n",
       "    </tr>\n",
       "    <tr>\n",
       "      <th>1</th>\n",
       "      <td>0.529008</td>\n",
       "    </tr>\n",
       "    <tr>\n",
       "      <th>2</th>\n",
       "      <td>0.133954</td>\n",
       "    </tr>\n",
       "    <tr>\n",
       "      <th>3</th>\n",
       "      <td>0.049151</td>\n",
       "    </tr>\n",
       "    <tr>\n",
       "      <th>4</th>\n",
       "      <td>0.073128</td>\n",
       "    </tr>\n",
       "    <tr>\n",
       "      <th>...</th>\n",
       "      <td>...</td>\n",
       "    </tr>\n",
       "    <tr>\n",
       "      <th>9946</th>\n",
       "      <td>0.082351</td>\n",
       "    </tr>\n",
       "    <tr>\n",
       "      <th>9947</th>\n",
       "      <td>-0.034028</td>\n",
       "    </tr>\n",
       "    <tr>\n",
       "      <th>9948</th>\n",
       "      <td>0.663063</td>\n",
       "    </tr>\n",
       "    <tr>\n",
       "      <th>9949</th>\n",
       "      <td>3.629068</td>\n",
       "    </tr>\n",
       "    <tr>\n",
       "      <th>9950</th>\n",
       "      <td>0.039501</td>\n",
       "    </tr>\n",
       "  </tbody>\n",
       "</table>\n",
       "<p>9951 rows × 1 columns</p>\n",
       "</div>"
      ],
      "text/plain": [
       "             0\n",
       "0    -0.030171\n",
       "1     0.529008\n",
       "2     0.133954\n",
       "3     0.049151\n",
       "4     0.073128\n",
       "...        ...\n",
       "9946  0.082351\n",
       "9947 -0.034028\n",
       "9948  0.663063\n",
       "9949  3.629068\n",
       "9950  0.039501\n",
       "\n",
       "[9951 rows x 1 columns]"
      ]
     },
     "execution_count": 45,
     "metadata": {},
     "output_type": "execute_result"
    }
   ],
   "source": [
    "#max value in windspeed\n",
    "X_train_df[\"wind_speed\"].max()\n",
    "y_testxgb_df = pd.DataFrame(y_testxgb)\n",
    "y_trainxgb_df = pd.DataFrame(y_trainxgb)\n",
    "y_testxgb_df"
   ]
  },
  {
   "cell_type": "code",
   "execution_count": 46,
   "metadata": {},
   "outputs": [
    {
     "data": {
      "text/html": [
       "<div>\n",
       "<style scoped>\n",
       "    .dataframe tbody tr th:only-of-type {\n",
       "        vertical-align: middle;\n",
       "    }\n",
       "\n",
       "    .dataframe tbody tr th {\n",
       "        vertical-align: top;\n",
       "    }\n",
       "\n",
       "    .dataframe thead th {\n",
       "        text-align: right;\n",
       "    }\n",
       "</style>\n",
       "<table border=\"1\" class=\"dataframe\">\n",
       "  <thead>\n",
       "    <tr style=\"text-align: right;\">\n",
       "      <th></th>\n",
       "      <th>percent_houses_damaged</th>\n",
       "      <th>y_testxgb</th>\n",
       "      <th>bins</th>\n",
       "      <th>y_pred_LR</th>\n",
       "      <th>y_pred_DT</th>\n",
       "    </tr>\n",
       "  </thead>\n",
       "  <tbody>\n",
       "    <tr>\n",
       "      <th>50005</th>\n",
       "      <td>0.000000</td>\n",
       "      <td>-0.030171</td>\n",
       "      <td>[0, 9e-05]</td>\n",
       "      <td>0.099310</td>\n",
       "      <td>0.133423</td>\n",
       "    </tr>\n",
       "    <tr>\n",
       "      <th>20438</th>\n",
       "      <td>0.083553</td>\n",
       "      <td>0.529008</td>\n",
       "      <td>[9e-05, 1]</td>\n",
       "      <td>5.300585</td>\n",
       "      <td>1.991995</td>\n",
       "    </tr>\n",
       "    <tr>\n",
       "      <th>93739</th>\n",
       "      <td>0.000000</td>\n",
       "      <td>0.133954</td>\n",
       "      <td>[0, 9e-05]</td>\n",
       "      <td>-0.027521</td>\n",
       "      <td>0.133423</td>\n",
       "    </tr>\n",
       "    <tr>\n",
       "      <th>119845</th>\n",
       "      <td>0.000000</td>\n",
       "      <td>0.049151</td>\n",
       "      <td>[0, 9e-05]</td>\n",
       "      <td>0.592451</td>\n",
       "      <td>0.133423</td>\n",
       "    </tr>\n",
       "    <tr>\n",
       "      <th>101875</th>\n",
       "      <td>0.000000</td>\n",
       "      <td>0.073128</td>\n",
       "      <td>[0, 9e-05]</td>\n",
       "      <td>0.923265</td>\n",
       "      <td>0.133423</td>\n",
       "    </tr>\n",
       "    <tr>\n",
       "      <th>...</th>\n",
       "      <td>...</td>\n",
       "      <td>...</td>\n",
       "      <td>...</td>\n",
       "      <td>...</td>\n",
       "      <td>...</td>\n",
       "    </tr>\n",
       "    <tr>\n",
       "      <th>7841</th>\n",
       "      <td>0.000000</td>\n",
       "      <td>0.082351</td>\n",
       "      <td>[0, 9e-05]</td>\n",
       "      <td>-1.135530</td>\n",
       "      <td>0.133423</td>\n",
       "    </tr>\n",
       "    <tr>\n",
       "      <th>136725</th>\n",
       "      <td>0.000000</td>\n",
       "      <td>-0.034028</td>\n",
       "      <td>[0, 9e-05]</td>\n",
       "      <td>-1.686567</td>\n",
       "      <td>0.133423</td>\n",
       "    </tr>\n",
       "    <tr>\n",
       "      <th>12550</th>\n",
       "      <td>0.000000</td>\n",
       "      <td>0.663063</td>\n",
       "      <td>[0, 9e-05]</td>\n",
       "      <td>2.199620</td>\n",
       "      <td>0.133423</td>\n",
       "    </tr>\n",
       "    <tr>\n",
       "      <th>32170</th>\n",
       "      <td>6.803083</td>\n",
       "      <td>3.629068</td>\n",
       "      <td>[1, 10]</td>\n",
       "      <td>5.727515</td>\n",
       "      <td>4.265249</td>\n",
       "    </tr>\n",
       "    <tr>\n",
       "      <th>15772</th>\n",
       "      <td>0.000000</td>\n",
       "      <td>0.039501</td>\n",
       "      <td>[0, 9e-05]</td>\n",
       "      <td>2.056589</td>\n",
       "      <td>0.133423</td>\n",
       "    </tr>\n",
       "  </tbody>\n",
       "</table>\n",
       "<p>9951 rows × 5 columns</p>\n",
       "</div>"
      ],
      "text/plain": [
       "        percent_houses_damaged  y_testxgb        bins  y_pred_LR  y_pred_DT\n",
       "50005                 0.000000  -0.030171  [0, 9e-05]   0.099310   0.133423\n",
       "20438                 0.083553   0.529008  [9e-05, 1]   5.300585   1.991995\n",
       "93739                 0.000000   0.133954  [0, 9e-05]  -0.027521   0.133423\n",
       "119845                0.000000   0.049151  [0, 9e-05]   0.592451   0.133423\n",
       "101875                0.000000   0.073128  [0, 9e-05]   0.923265   0.133423\n",
       "...                        ...        ...         ...        ...        ...\n",
       "7841                  0.000000   0.082351  [0, 9e-05]  -1.135530   0.133423\n",
       "136725                0.000000  -0.034028  [0, 9e-05]  -1.686567   0.133423\n",
       "12550                 0.000000   0.663063  [0, 9e-05]   2.199620   0.133423\n",
       "32170                 6.803083   3.629068     [1, 10]   5.727515   4.265249\n",
       "15772                 0.000000   0.039501  [0, 9e-05]   2.056589   0.133423\n",
       "\n",
       "[9951 rows x 5 columns]"
      ]
     },
     "execution_count": 46,
     "metadata": {},
     "output_type": "execute_result"
    }
   ],
   "source": [
    "y_test_df"
   ]
  },
  {
   "cell_type": "markdown",
   "metadata": {},
   "source": [
    "## First attempt"
   ]
  },
  {
   "cell_type": "code",
   "execution_count": 306,
   "metadata": {},
   "outputs": [
    {
     "data": {
      "text/html": [
       "<style>#sk-container-id-3 {color: black;background-color: white;}#sk-container-id-3 pre{padding: 0;}#sk-container-id-3 div.sk-toggleable {background-color: white;}#sk-container-id-3 label.sk-toggleable__label {cursor: pointer;display: block;width: 100%;margin-bottom: 0;padding: 0.3em;box-sizing: border-box;text-align: center;}#sk-container-id-3 label.sk-toggleable__label-arrow:before {content: \"▸\";float: left;margin-right: 0.25em;color: #696969;}#sk-container-id-3 label.sk-toggleable__label-arrow:hover:before {color: black;}#sk-container-id-3 div.sk-estimator:hover label.sk-toggleable__label-arrow:before {color: black;}#sk-container-id-3 div.sk-toggleable__content {max-height: 0;max-width: 0;overflow: hidden;text-align: left;background-color: #f0f8ff;}#sk-container-id-3 div.sk-toggleable__content pre {margin: 0.2em;color: black;border-radius: 0.25em;background-color: #f0f8ff;}#sk-container-id-3 input.sk-toggleable__control:checked~div.sk-toggleable__content {max-height: 200px;max-width: 100%;overflow: auto;}#sk-container-id-3 input.sk-toggleable__control:checked~label.sk-toggleable__label-arrow:before {content: \"▾\";}#sk-container-id-3 div.sk-estimator input.sk-toggleable__control:checked~label.sk-toggleable__label {background-color: #d4ebff;}#sk-container-id-3 div.sk-label input.sk-toggleable__control:checked~label.sk-toggleable__label {background-color: #d4ebff;}#sk-container-id-3 input.sk-hidden--visually {border: 0;clip: rect(1px 1px 1px 1px);clip: rect(1px, 1px, 1px, 1px);height: 1px;margin: -1px;overflow: hidden;padding: 0;position: absolute;width: 1px;}#sk-container-id-3 div.sk-estimator {font-family: monospace;background-color: #f0f8ff;border: 1px dotted black;border-radius: 0.25em;box-sizing: border-box;margin-bottom: 0.5em;}#sk-container-id-3 div.sk-estimator:hover {background-color: #d4ebff;}#sk-container-id-3 div.sk-parallel-item::after {content: \"\";width: 100%;border-bottom: 1px solid gray;flex-grow: 1;}#sk-container-id-3 div.sk-label:hover label.sk-toggleable__label {background-color: #d4ebff;}#sk-container-id-3 div.sk-serial::before {content: \"\";position: absolute;border-left: 1px solid gray;box-sizing: border-box;top: 0;bottom: 0;left: 50%;z-index: 0;}#sk-container-id-3 div.sk-serial {display: flex;flex-direction: column;align-items: center;background-color: white;padding-right: 0.2em;padding-left: 0.2em;position: relative;}#sk-container-id-3 div.sk-item {position: relative;z-index: 1;}#sk-container-id-3 div.sk-parallel {display: flex;align-items: stretch;justify-content: center;background-color: white;position: relative;}#sk-container-id-3 div.sk-item::before, #sk-container-id-3 div.sk-parallel-item::before {content: \"\";position: absolute;border-left: 1px solid gray;box-sizing: border-box;top: 0;bottom: 0;left: 50%;z-index: -1;}#sk-container-id-3 div.sk-parallel-item {display: flex;flex-direction: column;z-index: 1;position: relative;background-color: white;}#sk-container-id-3 div.sk-parallel-item:first-child::after {align-self: flex-end;width: 50%;}#sk-container-id-3 div.sk-parallel-item:last-child::after {align-self: flex-start;width: 50%;}#sk-container-id-3 div.sk-parallel-item:only-child::after {width: 0;}#sk-container-id-3 div.sk-dashed-wrapped {border: 1px dashed gray;margin: 0 0.4em 0.5em 0.4em;box-sizing: border-box;padding-bottom: 0.4em;background-color: white;}#sk-container-id-3 div.sk-label label {font-family: monospace;font-weight: bold;display: inline-block;line-height: 1.2em;}#sk-container-id-3 div.sk-label-container {text-align: center;}#sk-container-id-3 div.sk-container {/* jupyter's `normalize.less` sets `[hidden] { display: none; }` but bootstrap.min.css set `[hidden] { display: none !important; }` so we also need the `!important` here to be able to override the default hidden behavior on the sphinx rendered scikit-learn.org. See: https://github.com/scikit-learn/scikit-learn/issues/21755 */display: inline-block !important;position: relative;}#sk-container-id-3 div.sk-text-repr-fallback {display: none;}</style><div id=\"sk-container-id-3\" class=\"sk-top-container\"><div class=\"sk-text-repr-fallback\"><pre>LinearRegression()</pre><b>In a Jupyter environment, please rerun this cell to show the HTML representation or trust the notebook. <br />On GitHub, the HTML representation is unable to render, please try loading this page with nbviewer.org.</b></div><div class=\"sk-container\" hidden><div class=\"sk-item\"><div class=\"sk-estimator sk-toggleable\"><input class=\"sk-toggleable__control sk-hidden--visually\" id=\"sk-estimator-id-3\" type=\"checkbox\" checked><label for=\"sk-estimator-id-3\" class=\"sk-toggleable__label sk-toggleable__label-arrow\">LinearRegression</label><div class=\"sk-toggleable__content\"><pre>LinearRegression()</pre></div></div></div></div></div>"
      ],
      "text/plain": [
       "LinearRegression()"
      ]
     },
     "execution_count": 306,
     "metadata": {},
     "output_type": "execute_result"
    }
   ],
   "source": [
    "# test simple function tree model\n",
    "splits = [0.75, 1.5, 1.75, 5]\n",
    "\n",
    "# split X_train into 3 groups\n",
    "X_train_split = X_train_df.copy()\n",
    "X_train_split['group'] = None\n",
    "for i, split in enumerate(splits):\n",
    "    if i == 0:\n",
    "        X_train_split.loc[X_train_split['wind_speed'] <= split, 'group'] = i\n",
    "    else:\n",
    "        X_train_split.loc[(X_train_split['wind_speed'] > splits[i-1]) & (X_train_split['wind_speed'] <= split), 'group'] = i\n",
    "\n",
    "X_train_split['group'].value_counts()\t\n",
    "\n",
    "# train linear model for each group\n",
    "models = []\n",
    "for i in range(4):\n",
    "    X_train_group = X_train_split[X_train_split['group'] == i]\n",
    "    y_train_group = y_trainxgb_df[y_trainxgb_df.index.isin(X_train_group.index)]\n",
    "    lr = LinearRegression()\n",
    "    lr.fit(X_train_group.drop(columns=\"group\"), y_train_group)\n",
    "    models.append(lr)\n",
    "\n",
    "\n",
    "models[0]"
   ]
  },
  {
   "cell_type": "code",
   "execution_count": 310,
   "metadata": {},
   "outputs": [
    {
     "name": "stdout",
     "output_type": "stream",
     "text": [
      "(9951, 6)\n",
      "(9951, 18)\n"
     ]
    }
   ],
   "source": [
    "# reset indices of y_test_df\n",
    "y_test_df = y_test_df.reset_index(drop=True)\n",
    "print(y_test_df.shape)\n",
    "print(X_test_df.shape)"
   ]
  },
  {
   "cell_type": "code",
   "execution_count": 311,
   "metadata": {},
   "outputs": [],
   "source": [
    "X_test_group = X_test_df.copy()\n",
    "X_test_group['group'] = None\n",
    "\n",
    "for i, split in enumerate(splits):\n",
    "    if i == 0:\n",
    "        X_test_group.loc[X_test_group['wind_speed'] <= split, 'group'] = i\n",
    "    else:\n",
    "        X_test_group.loc[(X_test_group['wind_speed'] > splits[i-1]) & (X_test_group['wind_speed'] <= split), 'group'] = i"
   ]
  },
  {
   "cell_type": "code",
   "execution_count": 312,
   "metadata": {},
   "outputs": [
    {
     "data": {
      "text/html": [
       "<div>\n",
       "<style scoped>\n",
       "    .dataframe tbody tr th:only-of-type {\n",
       "        vertical-align: middle;\n",
       "    }\n",
       "\n",
       "    .dataframe tbody tr th {\n",
       "        vertical-align: top;\n",
       "    }\n",
       "\n",
       "    .dataframe thead th {\n",
       "        text-align: right;\n",
       "    }\n",
       "</style>\n",
       "<table border=\"1\" class=\"dataframe\">\n",
       "  <thead>\n",
       "    <tr style=\"text-align: right;\">\n",
       "      <th></th>\n",
       "      <th>wind_speed</th>\n",
       "      <th>track_distance</th>\n",
       "      <th>total_houses</th>\n",
       "      <th>rainfall_max_6h</th>\n",
       "      <th>rainfall_max_24h</th>\n",
       "      <th>rwi</th>\n",
       "      <th>mean_slope</th>\n",
       "      <th>std_slope</th>\n",
       "      <th>mean_tri</th>\n",
       "      <th>std_tri</th>\n",
       "      <th>mean_elev</th>\n",
       "      <th>coast_length</th>\n",
       "      <th>with_coast</th>\n",
       "      <th>urban</th>\n",
       "      <th>rural</th>\n",
       "      <th>water</th>\n",
       "      <th>total_pop</th>\n",
       "      <th>percent_houses_damaged_5years</th>\n",
       "      <th>group</th>\n",
       "    </tr>\n",
       "  </thead>\n",
       "  <tbody>\n",
       "    <tr>\n",
       "      <th>0</th>\n",
       "      <td>-0.553965</td>\n",
       "      <td>0.824593</td>\n",
       "      <td>-0.108198</td>\n",
       "      <td>-0.563647</td>\n",
       "      <td>-0.178465</td>\n",
       "      <td>-0.008619</td>\n",
       "      <td>0.314516</td>\n",
       "      <td>1.836731</td>\n",
       "      <td>0.378383</td>\n",
       "      <td>2.191690</td>\n",
       "      <td>0.187710</td>\n",
       "      <td>-0.657215</td>\n",
       "      <td>-1.069284</td>\n",
       "      <td>-0.080158</td>\n",
       "      <td>0.819770</td>\n",
       "      <td>-0.777261</td>\n",
       "      <td>-0.125015</td>\n",
       "      <td>1.349075</td>\n",
       "      <td>0</td>\n",
       "    </tr>\n",
       "    <tr>\n",
       "      <th>2</th>\n",
       "      <td>-0.489344</td>\n",
       "      <td>0.163372</td>\n",
       "      <td>-0.081059</td>\n",
       "      <td>0.655724</td>\n",
       "      <td>0.244259</td>\n",
       "      <td>-0.968642</td>\n",
       "      <td>-0.536983</td>\n",
       "      <td>-0.525457</td>\n",
       "      <td>-0.464313</td>\n",
       "      <td>-0.484082</td>\n",
       "      <td>-0.643224</td>\n",
       "      <td>-0.278337</td>\n",
       "      <td>0.935205</td>\n",
       "      <td>-0.312606</td>\n",
       "      <td>0.901064</td>\n",
       "      <td>-0.722769</td>\n",
       "      <td>-0.076355</td>\n",
       "      <td>0.647851</td>\n",
       "      <td>0</td>\n",
       "    </tr>\n",
       "    <tr>\n",
       "      <th>3</th>\n",
       "      <td>-0.133500</td>\n",
       "      <td>-0.271994</td>\n",
       "      <td>-0.270355</td>\n",
       "      <td>-0.410508</td>\n",
       "      <td>-0.650941</td>\n",
       "      <td>-0.508069</td>\n",
       "      <td>0.293585</td>\n",
       "      <td>0.357728</td>\n",
       "      <td>0.275629</td>\n",
       "      <td>0.359119</td>\n",
       "      <td>-0.572785</td>\n",
       "      <td>0.446924</td>\n",
       "      <td>0.935205</td>\n",
       "      <td>-0.731012</td>\n",
       "      <td>-1.375180</td>\n",
       "      <td>1.811096</td>\n",
       "      <td>-0.268364</td>\n",
       "      <td>-0.223632</td>\n",
       "      <td>0</td>\n",
       "    </tr>\n",
       "    <tr>\n",
       "      <th>4</th>\n",
       "      <td>0.362534</td>\n",
       "      <td>-0.947899</td>\n",
       "      <td>-0.047338</td>\n",
       "      <td>-0.949190</td>\n",
       "      <td>-0.974327</td>\n",
       "      <td>0.162867</td>\n",
       "      <td>0.307906</td>\n",
       "      <td>1.148953</td>\n",
       "      <td>0.278745</td>\n",
       "      <td>1.184207</td>\n",
       "      <td>-0.263660</td>\n",
       "      <td>-0.657215</td>\n",
       "      <td>-1.069284</td>\n",
       "      <td>0.617186</td>\n",
       "      <td>0.413298</td>\n",
       "      <td>-0.777261</td>\n",
       "      <td>0.006422</td>\n",
       "      <td>-0.237978</td>\n",
       "      <td>0</td>\n",
       "    </tr>\n",
       "    <tr>\n",
       "      <th>5</th>\n",
       "      <td>0.317545</td>\n",
       "      <td>-0.601355</td>\n",
       "      <td>-0.153428</td>\n",
       "      <td>4.044664</td>\n",
       "      <td>2.977453</td>\n",
       "      <td>-0.910758</td>\n",
       "      <td>-0.539468</td>\n",
       "      <td>-0.428360</td>\n",
       "      <td>-0.542570</td>\n",
       "      <td>-0.432333</td>\n",
       "      <td>-0.548813</td>\n",
       "      <td>0.612064</td>\n",
       "      <td>0.935205</td>\n",
       "      <td>-0.405585</td>\n",
       "      <td>0.169414</td>\n",
       "      <td>0.067361</td>\n",
       "      <td>-0.149480</td>\n",
       "      <td>-0.006197</td>\n",
       "      <td>0</td>\n",
       "    </tr>\n",
       "    <tr>\n",
       "      <th>...</th>\n",
       "      <td>...</td>\n",
       "      <td>...</td>\n",
       "      <td>...</td>\n",
       "      <td>...</td>\n",
       "      <td>...</td>\n",
       "      <td>...</td>\n",
       "      <td>...</td>\n",
       "      <td>...</td>\n",
       "      <td>...</td>\n",
       "      <td>...</td>\n",
       "      <td>...</td>\n",
       "      <td>...</td>\n",
       "      <td>...</td>\n",
       "      <td>...</td>\n",
       "      <td>...</td>\n",
       "      <td>...</td>\n",
       "      <td>...</td>\n",
       "      <td>...</td>\n",
       "      <td>...</td>\n",
       "    </tr>\n",
       "    <tr>\n",
       "      <th>9944</th>\n",
       "      <td>-0.698694</td>\n",
       "      <td>0.941246</td>\n",
       "      <td>-0.062058</td>\n",
       "      <td>-1.210267</td>\n",
       "      <td>-1.279969</td>\n",
       "      <td>-0.190702</td>\n",
       "      <td>-0.650799</td>\n",
       "      <td>-0.171668</td>\n",
       "      <td>-0.652598</td>\n",
       "      <td>-0.196791</td>\n",
       "      <td>-0.391512</td>\n",
       "      <td>-0.657215</td>\n",
       "      <td>-1.069284</td>\n",
       "      <td>-0.126648</td>\n",
       "      <td>0.846868</td>\n",
       "      <td>-0.777261</td>\n",
       "      <td>-0.033219</td>\n",
       "      <td>0.953119</td>\n",
       "      <td>0</td>\n",
       "    </tr>\n",
       "    <tr>\n",
       "      <th>9945</th>\n",
       "      <td>-0.473829</td>\n",
       "      <td>1.343660</td>\n",
       "      <td>0.083426</td>\n",
       "      <td>-1.010581</td>\n",
       "      <td>-0.962221</td>\n",
       "      <td>0.675084</td>\n",
       "      <td>-0.453595</td>\n",
       "      <td>-0.340413</td>\n",
       "      <td>-0.450781</td>\n",
       "      <td>-0.409439</td>\n",
       "      <td>-0.588164</td>\n",
       "      <td>2.276153</td>\n",
       "      <td>0.935205</td>\n",
       "      <td>1.361019</td>\n",
       "      <td>-0.616432</td>\n",
       "      <td>-0.177852</td>\n",
       "      <td>0.358045</td>\n",
       "      <td>-0.241398</td>\n",
       "      <td>0</td>\n",
       "    </tr>\n",
       "    <tr>\n",
       "      <th>9946</th>\n",
       "      <td>-1.050857</td>\n",
       "      <td>1.124671</td>\n",
       "      <td>-0.175754</td>\n",
       "      <td>0.820668</td>\n",
       "      <td>1.179923</td>\n",
       "      <td>-0.222467</td>\n",
       "      <td>0.672710</td>\n",
       "      <td>1.226756</td>\n",
       "      <td>0.650708</td>\n",
       "      <td>1.197646</td>\n",
       "      <td>0.033110</td>\n",
       "      <td>-0.657215</td>\n",
       "      <td>-1.069284</td>\n",
       "      <td>-0.266117</td>\n",
       "      <td>0.928162</td>\n",
       "      <td>-0.777261</td>\n",
       "      <td>-0.139468</td>\n",
       "      <td>0.990301</td>\n",
       "      <td>0</td>\n",
       "    </tr>\n",
       "    <tr>\n",
       "      <th>9947</th>\n",
       "      <td>-1.357214</td>\n",
       "      <td>1.431274</td>\n",
       "      <td>0.046389</td>\n",
       "      <td>-0.900281</td>\n",
       "      <td>-0.993399</td>\n",
       "      <td>0.437662</td>\n",
       "      <td>-0.444384</td>\n",
       "      <td>0.191763</td>\n",
       "      <td>-0.381543</td>\n",
       "      <td>0.267485</td>\n",
       "      <td>-0.438933</td>\n",
       "      <td>0.159366</td>\n",
       "      <td>0.935205</td>\n",
       "      <td>0.338248</td>\n",
       "      <td>0.494592</td>\n",
       "      <td>-0.695523</td>\n",
       "      <td>-0.055362</td>\n",
       "      <td>-0.241398</td>\n",
       "      <td>0</td>\n",
       "    </tr>\n",
       "    <tr>\n",
       "      <th>9950</th>\n",
       "      <td>-0.118595</td>\n",
       "      <td>1.378527</td>\n",
       "      <td>-0.271946</td>\n",
       "      <td>-0.922880</td>\n",
       "      <td>-1.030049</td>\n",
       "      <td>-0.027296</td>\n",
       "      <td>0.447119</td>\n",
       "      <td>0.842816</td>\n",
       "      <td>0.538661</td>\n",
       "      <td>1.131966</td>\n",
       "      <td>-0.463061</td>\n",
       "      <td>0.030494</td>\n",
       "      <td>0.935205</td>\n",
       "      <td>-0.731012</td>\n",
       "      <td>-1.266787</td>\n",
       "      <td>1.702112</td>\n",
       "      <td>-0.277252</td>\n",
       "      <td>-0.241398</td>\n",
       "      <td>0</td>\n",
       "    </tr>\n",
       "  </tbody>\n",
       "</table>\n",
       "<p>7940 rows × 19 columns</p>\n",
       "</div>"
      ],
      "text/plain": [
       "      wind_speed  track_distance  total_houses  rainfall_max_6h  \\\n",
       "0      -0.553965        0.824593     -0.108198        -0.563647   \n",
       "2      -0.489344        0.163372     -0.081059         0.655724   \n",
       "3      -0.133500       -0.271994     -0.270355        -0.410508   \n",
       "4       0.362534       -0.947899     -0.047338        -0.949190   \n",
       "5       0.317545       -0.601355     -0.153428         4.044664   \n",
       "...          ...             ...           ...              ...   \n",
       "9944   -0.698694        0.941246     -0.062058        -1.210267   \n",
       "9945   -0.473829        1.343660      0.083426        -1.010581   \n",
       "9946   -1.050857        1.124671     -0.175754         0.820668   \n",
       "9947   -1.357214        1.431274      0.046389        -0.900281   \n",
       "9950   -0.118595        1.378527     -0.271946        -0.922880   \n",
       "\n",
       "      rainfall_max_24h       rwi  mean_slope  std_slope  mean_tri   std_tri  \\\n",
       "0            -0.178465 -0.008619    0.314516   1.836731  0.378383  2.191690   \n",
       "2             0.244259 -0.968642   -0.536983  -0.525457 -0.464313 -0.484082   \n",
       "3            -0.650941 -0.508069    0.293585   0.357728  0.275629  0.359119   \n",
       "4            -0.974327  0.162867    0.307906   1.148953  0.278745  1.184207   \n",
       "5             2.977453 -0.910758   -0.539468  -0.428360 -0.542570 -0.432333   \n",
       "...                ...       ...         ...        ...       ...       ...   \n",
       "9944         -1.279969 -0.190702   -0.650799  -0.171668 -0.652598 -0.196791   \n",
       "9945         -0.962221  0.675084   -0.453595  -0.340413 -0.450781 -0.409439   \n",
       "9946          1.179923 -0.222467    0.672710   1.226756  0.650708  1.197646   \n",
       "9947         -0.993399  0.437662   -0.444384   0.191763 -0.381543  0.267485   \n",
       "9950         -1.030049 -0.027296    0.447119   0.842816  0.538661  1.131966   \n",
       "\n",
       "      mean_elev  coast_length  with_coast     urban     rural     water  \\\n",
       "0      0.187710     -0.657215   -1.069284 -0.080158  0.819770 -0.777261   \n",
       "2     -0.643224     -0.278337    0.935205 -0.312606  0.901064 -0.722769   \n",
       "3     -0.572785      0.446924    0.935205 -0.731012 -1.375180  1.811096   \n",
       "4     -0.263660     -0.657215   -1.069284  0.617186  0.413298 -0.777261   \n",
       "5     -0.548813      0.612064    0.935205 -0.405585  0.169414  0.067361   \n",
       "...         ...           ...         ...       ...       ...       ...   \n",
       "9944  -0.391512     -0.657215   -1.069284 -0.126648  0.846868 -0.777261   \n",
       "9945  -0.588164      2.276153    0.935205  1.361019 -0.616432 -0.177852   \n",
       "9946   0.033110     -0.657215   -1.069284 -0.266117  0.928162 -0.777261   \n",
       "9947  -0.438933      0.159366    0.935205  0.338248  0.494592 -0.695523   \n",
       "9950  -0.463061      0.030494    0.935205 -0.731012 -1.266787  1.702112   \n",
       "\n",
       "      total_pop  percent_houses_damaged_5years group  \n",
       "0     -0.125015                       1.349075     0  \n",
       "2     -0.076355                       0.647851     0  \n",
       "3     -0.268364                      -0.223632     0  \n",
       "4      0.006422                      -0.237978     0  \n",
       "5     -0.149480                      -0.006197     0  \n",
       "...         ...                            ...   ...  \n",
       "9944  -0.033219                       0.953119     0  \n",
       "9945   0.358045                      -0.241398     0  \n",
       "9946  -0.139468                       0.990301     0  \n",
       "9947  -0.055362                      -0.241398     0  \n",
       "9950  -0.277252                      -0.241398     0  \n",
       "\n",
       "[7940 rows x 19 columns]"
      ]
     },
     "execution_count": 312,
     "metadata": {},
     "output_type": "execute_result"
    }
   ],
   "source": [
    "# X_test_group with group == 2\n",
    "X_test_group.loc[X_test_group['group']==0]"
   ]
  },
  {
   "cell_type": "code",
   "execution_count": 313,
   "metadata": {},
   "outputs": [
    {
     "name": "stdout",
     "output_type": "stream",
     "text": [
      "group\n",
      "0    7940\n",
      "1     952\n",
      "3     816\n",
      "2     243\n",
      "Name: count, dtype: int64\n"
     ]
    },
    {
     "data": {
      "text/html": [
       "<div>\n",
       "<style scoped>\n",
       "    .dataframe tbody tr th:only-of-type {\n",
       "        vertical-align: middle;\n",
       "    }\n",
       "\n",
       "    .dataframe tbody tr th {\n",
       "        vertical-align: top;\n",
       "    }\n",
       "\n",
       "    .dataframe thead th {\n",
       "        text-align: right;\n",
       "    }\n",
       "</style>\n",
       "<table border=\"1\" class=\"dataframe\">\n",
       "  <thead>\n",
       "    <tr style=\"text-align: right;\">\n",
       "      <th></th>\n",
       "      <th>percent_houses_damaged</th>\n",
       "      <th>y_testxgb</th>\n",
       "      <th>bins</th>\n",
       "      <th>y_pred_LR</th>\n",
       "      <th>y_pred_DT</th>\n",
       "      <th>FunctionTree</th>\n",
       "    </tr>\n",
       "  </thead>\n",
       "  <tbody>\n",
       "    <tr>\n",
       "      <th>0</th>\n",
       "      <td>0.000000</td>\n",
       "      <td>-0.030171</td>\n",
       "      <td>[0, 9e-05]</td>\n",
       "      <td>0.099310</td>\n",
       "      <td>0.133423</td>\n",
       "      <td>-0.007401</td>\n",
       "    </tr>\n",
       "    <tr>\n",
       "      <th>1</th>\n",
       "      <td>0.083553</td>\n",
       "      <td>0.529008</td>\n",
       "      <td>[9e-05, 1]</td>\n",
       "      <td>5.300585</td>\n",
       "      <td>1.991995</td>\n",
       "      <td>0.106489</td>\n",
       "    </tr>\n",
       "    <tr>\n",
       "      <th>2</th>\n",
       "      <td>0.000000</td>\n",
       "      <td>0.133954</td>\n",
       "      <td>[0, 9e-05]</td>\n",
       "      <td>-0.027521</td>\n",
       "      <td>0.133423</td>\n",
       "      <td>0.198357</td>\n",
       "    </tr>\n",
       "    <tr>\n",
       "      <th>3</th>\n",
       "      <td>0.000000</td>\n",
       "      <td>0.049151</td>\n",
       "      <td>[0, 9e-05]</td>\n",
       "      <td>0.592451</td>\n",
       "      <td>0.133423</td>\n",
       "      <td>0.159703</td>\n",
       "    </tr>\n",
       "    <tr>\n",
       "      <th>4</th>\n",
       "      <td>0.000000</td>\n",
       "      <td>0.073128</td>\n",
       "      <td>[0, 9e-05]</td>\n",
       "      <td>0.923265</td>\n",
       "      <td>0.133423</td>\n",
       "      <td>0.039666</td>\n",
       "    </tr>\n",
       "    <tr>\n",
       "      <th>...</th>\n",
       "      <td>...</td>\n",
       "      <td>...</td>\n",
       "      <td>...</td>\n",
       "      <td>...</td>\n",
       "      <td>...</td>\n",
       "      <td>...</td>\n",
       "    </tr>\n",
       "    <tr>\n",
       "      <th>9946</th>\n",
       "      <td>0.000000</td>\n",
       "      <td>0.082351</td>\n",
       "      <td>[0, 9e-05]</td>\n",
       "      <td>-1.135530</td>\n",
       "      <td>0.133423</td>\n",
       "      <td>0.135362</td>\n",
       "    </tr>\n",
       "    <tr>\n",
       "      <th>9947</th>\n",
       "      <td>0.000000</td>\n",
       "      <td>-0.034028</td>\n",
       "      <td>[0, 9e-05]</td>\n",
       "      <td>-1.686567</td>\n",
       "      <td>0.133423</td>\n",
       "      <td>-0.082058</td>\n",
       "    </tr>\n",
       "    <tr>\n",
       "      <th>9948</th>\n",
       "      <td>0.000000</td>\n",
       "      <td>0.663063</td>\n",
       "      <td>[0, 9e-05]</td>\n",
       "      <td>2.199620</td>\n",
       "      <td>0.133423</td>\n",
       "      <td>1.287055</td>\n",
       "    </tr>\n",
       "    <tr>\n",
       "      <th>9949</th>\n",
       "      <td>6.803083</td>\n",
       "      <td>3.629068</td>\n",
       "      <td>[1, 10]</td>\n",
       "      <td>5.727515</td>\n",
       "      <td>4.265249</td>\n",
       "      <td>2.063731</td>\n",
       "    </tr>\n",
       "    <tr>\n",
       "      <th>9950</th>\n",
       "      <td>0.000000</td>\n",
       "      <td>0.039501</td>\n",
       "      <td>[0, 9e-05]</td>\n",
       "      <td>2.056589</td>\n",
       "      <td>0.133423</td>\n",
       "      <td>-0.033525</td>\n",
       "    </tr>\n",
       "  </tbody>\n",
       "</table>\n",
       "<p>9951 rows × 6 columns</p>\n",
       "</div>"
      ],
      "text/plain": [
       "      percent_houses_damaged  y_testxgb        bins  y_pred_LR  y_pred_DT  \\\n",
       "0                   0.000000  -0.030171  [0, 9e-05]   0.099310   0.133423   \n",
       "1                   0.083553   0.529008  [9e-05, 1]   5.300585   1.991995   \n",
       "2                   0.000000   0.133954  [0, 9e-05]  -0.027521   0.133423   \n",
       "3                   0.000000   0.049151  [0, 9e-05]   0.592451   0.133423   \n",
       "4                   0.000000   0.073128  [0, 9e-05]   0.923265   0.133423   \n",
       "...                      ...        ...         ...        ...        ...   \n",
       "9946                0.000000   0.082351  [0, 9e-05]  -1.135530   0.133423   \n",
       "9947                0.000000  -0.034028  [0, 9e-05]  -1.686567   0.133423   \n",
       "9948                0.000000   0.663063  [0, 9e-05]   2.199620   0.133423   \n",
       "9949                6.803083   3.629068     [1, 10]   5.727515   4.265249   \n",
       "9950                0.000000   0.039501  [0, 9e-05]   2.056589   0.133423   \n",
       "\n",
       "     FunctionTree  \n",
       "0       -0.007401  \n",
       "1        0.106489  \n",
       "2        0.198357  \n",
       "3        0.159703  \n",
       "4        0.039666  \n",
       "...           ...  \n",
       "9946     0.135362  \n",
       "9947    -0.082058  \n",
       "9948     1.287055  \n",
       "9949     2.063731  \n",
       "9950    -0.033525  \n",
       "\n",
       "[9951 rows x 6 columns]"
      ]
     },
     "execution_count": 313,
     "metadata": {},
     "output_type": "execute_result"
    }
   ],
   "source": [
    "# predict y_test for each group\n",
    "#y_pred_array = pd.DataFrame(np.zeros(len(y_test_df)))\n",
    "y_test_df[\"FunctionTree\"]  = None\n",
    "\n",
    "#count X_test_group\n",
    "print(X_test_group['group'].value_counts())\n",
    "\n",
    "for i in range(4):\n",
    "    #print(i)\n",
    "    X_test_group_i = X_test_group[X_test_group['group'] == i]\n",
    "    #print(X_test_group.shape)\n",
    "    y_pred = models[i].predict(X_test_group_i.drop(columns=['group']))\n",
    "    y_test_df.loc[X_test_group_i.index, 'FunctionTree'] = y_pred\n",
    "\n",
    "y_test_df"
   ]
  },
  {
   "cell_type": "code",
   "execution_count": 314,
   "metadata": {},
   "outputs": [
    {
     "name": "stdout",
     "output_type": "stream",
     "text": [
      "MSE:  2.361295710473005\n",
      "RMSE:  1.536650809544252\n"
     ]
    }
   ],
   "source": [
    "# evaluate Function Tree Result\n",
    "mse = mean_squared_error(y_test_df['y_testxgb'], y_test_df['FunctionTree'])\n",
    "print(\"MSE: \", mse)\n",
    "rmse = np.sqrt(mse)\n",
    "print(\"RMSE: \", rmse)"
   ]
  },
  {
   "cell_type": "code",
   "execution_count": 315,
   "metadata": {},
   "outputs": [
    {
     "name": "stdout",
     "output_type": "stream",
     "text": [
      "Bin:  [0, 9e-05]  RMSE:  0.6263588006748695\n",
      "Bin:  [9e-05, 1]  RMSE:  1.5147239518633215\n",
      "Bin:  [1, 10]  RMSE:  3.442147682125313\n",
      "Bin:  [10, 50]  RMSE:  5.950279862218105\n",
      "Bin:  [50, 100]  RMSE:  12.501350639005047\n",
      "Total RSME 1.536650809544252\n"
     ]
    }
   ],
   "source": [
    "# evaluate per bin\n",
    "bins = [[0, 0.00009], [0.00009, 1], [1,10],[10,50], [50,100]]\n",
    "\n",
    "for v in bins:\n",
    "    y_test_df_v = y_test_df[y_test_df['bins'] == str(v)]\n",
    "    mse = mean_squared_error(y_test_df_v['y_testxgb'], y_test_df_v['FunctionTree'])\n",
    "    rmse = np.sqrt(mse)\n",
    "    print(\"Bin: \", v, \" RMSE: \", rmse)\n",
    "\n",
    "print(\"Total RSME\", np.sqrt(mean_squared_error(y_test_df['y_testxgb'], y_test_df['FunctionTree'])))"
   ]
  },
  {
   "cell_type": "markdown",
   "metadata": {},
   "source": [
    "## Function solution - Windspeed separation"
   ]
  },
  {
   "cell_type": "code",
   "execution_count": 248,
   "metadata": {},
   "outputs": [],
   "source": [
    "def predfunctiontree(X, models, conditions, n= 18, featlist = None):\n",
    "    if featlist is None:\n",
    "        featlist = X.columns\n",
    "    fullprediction = []\n",
    "    for index, row in X.iterrows():\n",
    "        i = pd.DataFrame(row).transpose()\n",
    "        i = i[featlist[:n]]\n",
    "        case = matchfunction(row, conditions)\n",
    "        predi = models[case].predict(i)[0][0]\n",
    "        fullprediction.append(predi)\n",
    "    return fullprediction\n",
    "\n",
    "def matchfunction(x, condition):\n",
    "    for f, cond in zip(condition.keys(), condition.values()):\n",
    "        case = f\n",
    "        for c in cond.keys():\n",
    "            if x[c] > cond[c]:\n",
    "                case = None\n",
    "                break\n",
    "        if case is not None:\n",
    "            return case\n",
    "    raise ValueError(\"No case found\")"
   ]
  },
  {
   "cell_type": "code",
   "execution_count": 249,
   "metadata": {},
   "outputs": [
    {
     "data": {
      "text/plain": [
       "4"
      ]
     },
     "execution_count": 249,
     "metadata": {},
     "output_type": "execute_result"
    }
   ],
   "source": [
    "conditionsT1 = {1: {\"wind_speed\": 0.75}, \n",
    "                2: {\"wind_speed\": 1.5}, \n",
    "                3: {\"wind_speed\": 1.75}, \n",
    "                4: {\"wind_speed\": 5}\n",
    "                }\t\n",
    "\n",
    "matchfunction(X_test_df.iloc[1], conditionsT1)"
   ]
  },
  {
   "cell_type": "code",
   "execution_count": 250,
   "metadata": {},
   "outputs": [],
   "source": [
    "n = 5\n",
    "lr = LinearRegression()\n",
    "lr.fit(X_train_df[shap_list[:n]], y_trainxgb)\n",
    "y_pred = lr.predict(X_test_df[shap_list[:n]])"
   ]
  },
  {
   "cell_type": "code",
   "execution_count": 251,
   "metadata": {},
   "outputs": [],
   "source": [
    "def buildfunctions(X, y, conditions, n = 18, featlist = None):\n",
    "    if featlist is None:\n",
    "        featlist = X.columns\n",
    "    y = pd.DataFrame(y)\n",
    "    y = y.reset_index(drop = True)\n",
    "    models = {}\n",
    "\n",
    "    X = X[featlist[:n]]\n",
    "\n",
    "    unassigned = X.index\n",
    "    for g, cond in zip(conditions.keys(), conditions.values()):\n",
    "        idx = unassigned\n",
    "        for c in cond.keys():\n",
    "            # collect indexes of all conditions and take intersection\n",
    "            idx_cond = X.loc[X[c] < cond[c]].index\n",
    "            idx = idx_cond.intersection(idx)\n",
    "        unassigned = unassigned.difference(idx) #update unassigned indices\n",
    "        X_group = X.loc[idx]\n",
    "        y_group = y.loc[idx]\n",
    "\n",
    "        lr = LinearRegression()\n",
    "        lr.fit(X_group, y_group)\n",
    "        models[g] = lr\n",
    "    return models"
   ]
  },
  {
   "cell_type": "code",
   "execution_count": 252,
   "metadata": {},
   "outputs": [
    {
     "data": {
      "text/plain": [
       "{1: LinearRegression(),\n",
       " 2: LinearRegression(),\n",
       " 3: LinearRegression(),\n",
       " 4: LinearRegression()}"
      ]
     },
     "execution_count": 252,
     "metadata": {},
     "output_type": "execute_result"
    }
   ],
   "source": [
    "models2 = buildfunctions(X_train_df, y_trainxgb_df, conditionsT1)\n",
    "models2"
   ]
  },
  {
   "cell_type": "code",
   "execution_count": 253,
   "metadata": {},
   "outputs": [],
   "source": [
    "p = predfunctiontree(X_test_df, models2, conditionsT1)"
   ]
  },
  {
   "cell_type": "code",
   "execution_count": 254,
   "metadata": {},
   "outputs": [
    {
     "data": {
      "text/html": [
       "<div>\n",
       "<style scoped>\n",
       "    .dataframe tbody tr th:only-of-type {\n",
       "        vertical-align: middle;\n",
       "    }\n",
       "\n",
       "    .dataframe tbody tr th {\n",
       "        vertical-align: top;\n",
       "    }\n",
       "\n",
       "    .dataframe thead th {\n",
       "        text-align: right;\n",
       "    }\n",
       "</style>\n",
       "<table border=\"1\" class=\"dataframe\">\n",
       "  <thead>\n",
       "    <tr style=\"text-align: right;\">\n",
       "      <th></th>\n",
       "      <th>percent_houses_damaged</th>\n",
       "      <th>y_testxgb</th>\n",
       "      <th>bins</th>\n",
       "      <th>y_pred_LR</th>\n",
       "      <th>FunctionTree_App2</th>\n",
       "      <th>FunctionTree3</th>\n",
       "    </tr>\n",
       "  </thead>\n",
       "  <tbody>\n",
       "    <tr>\n",
       "      <th>0</th>\n",
       "      <td>0.000000</td>\n",
       "      <td>-0.030171</td>\n",
       "      <td>[0, 9e-05]</td>\n",
       "      <td>0.061169</td>\n",
       "      <td>0.059568</td>\n",
       "      <td>-0.007992</td>\n",
       "    </tr>\n",
       "    <tr>\n",
       "      <th>1</th>\n",
       "      <td>0.083553</td>\n",
       "      <td>0.529008</td>\n",
       "      <td>[9e-05, 1]</td>\n",
       "      <td>1.167112</td>\n",
       "      <td>1.792750</td>\n",
       "      <td>0.120535</td>\n",
       "    </tr>\n",
       "    <tr>\n",
       "      <th>2</th>\n",
       "      <td>0.000000</td>\n",
       "      <td>0.133954</td>\n",
       "      <td>[0, 9e-05]</td>\n",
       "      <td>0.176567</td>\n",
       "      <td>0.121877</td>\n",
       "      <td>0.197635</td>\n",
       "    </tr>\n",
       "    <tr>\n",
       "      <th>3</th>\n",
       "      <td>0.000000</td>\n",
       "      <td>0.049151</td>\n",
       "      <td>[0, 9e-05]</td>\n",
       "      <td>0.161852</td>\n",
       "      <td>0.070401</td>\n",
       "      <td>0.159305</td>\n",
       "    </tr>\n",
       "    <tr>\n",
       "      <th>4</th>\n",
       "      <td>0.000000</td>\n",
       "      <td>0.073128</td>\n",
       "      <td>[0, 9e-05]</td>\n",
       "      <td>0.314795</td>\n",
       "      <td>0.103826</td>\n",
       "      <td>0.039005</td>\n",
       "    </tr>\n",
       "    <tr>\n",
       "      <th>...</th>\n",
       "      <td>...</td>\n",
       "      <td>...</td>\n",
       "      <td>...</td>\n",
       "      <td>...</td>\n",
       "      <td>...</td>\n",
       "      <td>...</td>\n",
       "    </tr>\n",
       "    <tr>\n",
       "      <th>9946</th>\n",
       "      <td>0.000000</td>\n",
       "      <td>0.082351</td>\n",
       "      <td>[0, 9e-05]</td>\n",
       "      <td>0.008768</td>\n",
       "      <td>0.097518</td>\n",
       "      <td>0.134830</td>\n",
       "    </tr>\n",
       "    <tr>\n",
       "      <th>9947</th>\n",
       "      <td>0.000000</td>\n",
       "      <td>-0.034028</td>\n",
       "      <td>[0, 9e-05]</td>\n",
       "      <td>-0.451682</td>\n",
       "      <td>-0.164037</td>\n",
       "      <td>-0.082852</td>\n",
       "    </tr>\n",
       "    <tr>\n",
       "      <th>9948</th>\n",
       "      <td>0.000000</td>\n",
       "      <td>0.663063</td>\n",
       "      <td>[0, 9e-05]</td>\n",
       "      <td>0.845675</td>\n",
       "      <td>1.752370</td>\n",
       "      <td>1.291247</td>\n",
       "    </tr>\n",
       "    <tr>\n",
       "      <th>9949</th>\n",
       "      <td>6.803083</td>\n",
       "      <td>3.629068</td>\n",
       "      <td>[1, 10]</td>\n",
       "      <td>2.158308</td>\n",
       "      <td>0.576187</td>\n",
       "      <td>2.073660</td>\n",
       "    </tr>\n",
       "    <tr>\n",
       "      <th>9950</th>\n",
       "      <td>0.000000</td>\n",
       "      <td>0.039501</td>\n",
       "      <td>[0, 9e-05]</td>\n",
       "      <td>0.195722</td>\n",
       "      <td>0.105864</td>\n",
       "      <td>-0.033932</td>\n",
       "    </tr>\n",
       "  </tbody>\n",
       "</table>\n",
       "<p>9951 rows × 6 columns</p>\n",
       "</div>"
      ],
      "text/plain": [
       "      percent_houses_damaged  y_testxgb        bins  y_pred_LR  \\\n",
       "0                   0.000000  -0.030171  [0, 9e-05]   0.061169   \n",
       "1                   0.083553   0.529008  [9e-05, 1]   1.167112   \n",
       "2                   0.000000   0.133954  [0, 9e-05]   0.176567   \n",
       "3                   0.000000   0.049151  [0, 9e-05]   0.161852   \n",
       "4                   0.000000   0.073128  [0, 9e-05]   0.314795   \n",
       "...                      ...        ...         ...        ...   \n",
       "9946                0.000000   0.082351  [0, 9e-05]   0.008768   \n",
       "9947                0.000000  -0.034028  [0, 9e-05]  -0.451682   \n",
       "9948                0.000000   0.663063  [0, 9e-05]   0.845675   \n",
       "9949                6.803083   3.629068     [1, 10]   2.158308   \n",
       "9950                0.000000   0.039501  [0, 9e-05]   0.195722   \n",
       "\n",
       "      FunctionTree_App2  FunctionTree3  \n",
       "0              0.059568      -0.007992  \n",
       "1              1.792750       0.120535  \n",
       "2              0.121877       0.197635  \n",
       "3              0.070401       0.159305  \n",
       "4              0.103826       0.039005  \n",
       "...                 ...            ...  \n",
       "9946           0.097518       0.134830  \n",
       "9947          -0.164037      -0.082852  \n",
       "9948           1.752370       1.291247  \n",
       "9949           0.576187       2.073660  \n",
       "9950           0.105864      -0.033932  \n",
       "\n",
       "[9951 rows x 6 columns]"
      ]
     },
     "execution_count": 254,
     "metadata": {},
     "output_type": "execute_result"
    }
   ],
   "source": [
    "y_test_df[\"FunctionTree3\"]  = p\n",
    "y_test_df"
   ]
  },
  {
   "cell_type": "code",
   "execution_count": 255,
   "metadata": {},
   "outputs": [
    {
     "name": "stdout",
     "output_type": "stream",
     "text": [
      "MSE:  2.3614053277486353\n",
      "RMSE:  1.5366864767247206\n"
     ]
    }
   ],
   "source": [
    "mse = mean_squared_error(y_test_df['y_testxgb'], y_test_df['FunctionTree3'])\n",
    "print(\"MSE: \", mse)\n",
    "print(\"RMSE: \", np.sqrt(mse))"
   ]
  },
  {
   "cell_type": "markdown",
   "metadata": {},
   "source": [
    "### Wind speed 2"
   ]
  },
  {
   "cell_type": "code",
   "execution_count": 256,
   "metadata": {},
   "outputs": [],
   "source": [
    "conditionsT1b = {\n",
    "                1: {\"wind_speed\": 2.1}, \n",
    "                2: {\"wind_speed\": 2.9}, \n",
    "                3: {\"wind_speed\": 3.6}, \n",
    "                4: {\"wind_speed\": 5}\n",
    "                }\t"
   ]
  },
  {
   "cell_type": "code",
   "execution_count": 269,
   "metadata": {},
   "outputs": [],
   "source": [
    "models = buildfunctions(X_train_df, y_trainxgb_df, conditionsT1b)\n",
    "p = predfunctiontree(X_test_df, models, conditionsT1b)\n",
    "y_test_df[\"FunctionTree_App2\"]  = p"
   ]
  },
  {
   "cell_type": "code",
   "execution_count": 271,
   "metadata": {},
   "outputs": [
    {
     "name": "stdout",
     "output_type": "stream",
     "text": [
      "MSE:  1.0631401694749802\n",
      "RMSE:  1.0310868874517707\n",
      "Bin: [0, 9e-05]      RMSE: 0.518, MAE: 0.253\n",
      "Bin: [9e-05, 1]      RMSE: 0.796, MAE: 0.491\n",
      "Bin: [1, 10]         RMSE: 2.217, MAE: 1.204\n",
      "Bin: [10, 50]        RMSE: 4.236, MAE: 2.915\n",
      "Bin: [50, 1000]      RMSE: 7.770, MAE: 6.128\n",
      "Total RSME 1.0310868874517707\n"
     ]
    },
    {
     "data": {
      "text/plain": [
       "[[[0, 9e-05], 0.26808279282262193, 0.517767122191649, 0.2530540517627801],\n",
       " [[9e-05, 1], 0.6329614947049828, 0.7955887723598057, 0.4914158541505432],\n",
       " [[1, 10], 4.916939722581767, 2.2174173541716877, 1.2037321430235142],\n",
       " [[10, 50], 17.940927845664874, 4.23567324585654, 2.9154217075364093],\n",
       " [[50, 1000], 60.379913982162655, 7.770451337095076, 6.1283032627163925]]"
      ]
     },
     "execution_count": 271,
     "metadata": {},
     "output_type": "execute_result"
    }
   ],
   "source": [
    "mse = mean_squared_error(y_test_df['y_testxgb'], y_test_df['FunctionTree_App2'])\n",
    "print(\"MSE: \", mse)\n",
    "print(\"RMSE: \", np.sqrt(mse))\n",
    "eval_bins(y_test_df['FunctionTree_App2'], y_test_df['y_testxgb'], y_test_df['percent_houses_damaged'])\n",
    "\n",
    "#RMSE:  1.0310868874517707 - 4 split\n",
    "#RSME: 1.4020251644747304 - 2 split"
   ]
  },
  {
   "cell_type": "code",
   "execution_count": 260,
   "metadata": {},
   "outputs": [],
   "source": [
    "# reduce n \n",
    "models = buildfunctions(X_train_df, y_trainxgb_df, conditionsT1b, n = 5, featlist = shap_list)\n",
    "p = predfunctiontree(X_test_df, models, conditionsT1b, n = 5, featlist = shap_list)\n",
    "y_test_df[\"FunctionTree_App2\"]  = p"
   ]
  },
  {
   "cell_type": "code",
   "execution_count": 261,
   "metadata": {},
   "outputs": [
    {
     "name": "stdout",
     "output_type": "stream",
     "text": [
      "MSE:  0.996163333492561\n",
      "RMSE:  0.998079823206822\n"
     ]
    }
   ],
   "source": [
    "mse = mean_squared_error(y_test_df['y_testxgb'], y_test_df['FunctionTree_App2'])\n",
    "print(\"MSE: \", mse)\n",
    "print(\"RMSE: \", np.sqrt(mse))\n",
    "\n",
    "# RSME: 1.4168701228705365 # 2 split\n",
    "# RSME: 1.0207850801181269 # 4 split - 5 var (shap) better than more variables!"
   ]
  },
  {
   "cell_type": "code",
   "execution_count": 262,
   "metadata": {},
   "outputs": [
    {
     "name": "stdout",
     "output_type": "stream",
     "text": [
      "Bin: [0, 9e-05]      RMSE: 0.474, MAE: 0.249\n",
      "Bin: [9e-05, 1]      RMSE: 0.845, MAE: 0.515\n",
      "Bin: [1, 10]         RMSE: 2.308, MAE: 1.222\n",
      "Bin: [10, 50]        RMSE: 3.847, MAE: 2.582\n",
      "Bin: [50, 1000]      RMSE: 7.601, MAE: 5.859\n",
      "Total RSME 0.998079823206822\n"
     ]
    },
    {
     "data": {
      "text/plain": [
       "[[[0, 9e-05], 0.22506572681904993, 0.47441092611685276, 0.2491969861144516],\n",
       " [[9e-05, 1], 0.7140039158845661, 0.8449875240999515, 0.5154717455769346],\n",
       " [[1, 10], 5.324978163292944, 2.3075914203543366, 1.222015882674424],\n",
       " [[10, 50], 14.797699820172344, 3.846777849079973, 2.582384520419049],\n",
       " [[50, 1000], 57.77010278055218, 7.600664627554105, 5.859098892283515]]"
      ]
     },
     "execution_count": 262,
     "metadata": {},
     "output_type": "execute_result"
    }
   ],
   "source": [
    "eval_bins(p, y_testxgb, y_test)"
   ]
  },
  {
   "cell_type": "code",
   "execution_count": 286,
   "metadata": {},
   "outputs": [],
   "source": [
    "rsme = []\n",
    "for i in [1,2,3,4,5,6,8,10,12]:\n",
    "    models = buildfunctions(X_train_df, y_trainxgb_df, conditionsT1b, n = i, featlist = shap_list)\n",
    "    p = predfunctiontree(X_test_df, models, conditionsT1b, n = i, featlist = shap_list)\n",
    "    mse = mean_squared_error(y_test_df['y_testxgb'], p)\n",
    "    rsme.append(np.sqrt(mse))"
   ]
  },
  {
   "cell_type": "code",
   "execution_count": 291,
   "metadata": {},
   "outputs": [
    {
     "data": {
      "text/plain": [
       "[<matplotlib.lines.Line2D at 0x20b80ab1490>]"
      ]
     },
     "execution_count": 291,
     "metadata": {},
     "output_type": "execute_result"
    },
    {
     "data": {
      "image/png": "[encoded data removed]",
      "text/plain": [
       "<Figure size 640x480 with 1 Axes>"
      ]
     },
     "metadata": {},
     "output_type": "display_data"
    }
   ],
   "source": [
    "# plot rsme\n",
    "import matplotlib.pyplot as plt\n",
    "plt.plot([1,2,3,4,5,6,8,10,12], rsme)"
   ]
  },
  {
   "cell_type": "markdown",
   "metadata": {},
   "source": [
    "### Actual y values "
   ]
  },
  {
   "cell_type": "code",
   "execution_count": 155,
   "metadata": {},
   "outputs": [],
   "source": [
    "models = buildfunctions(X_train_df, y_train, conditionsT1b, n = 5, featlist = shap_list)\n",
    "p = predfunctiontree(X_test_df, models, conditionsT1b, n = 5, featlist = shap_list)"
   ]
  },
  {
   "cell_type": "code",
   "execution_count": 185,
   "metadata": {},
   "outputs": [
    {
     "name": "stdout",
     "output_type": "stream",
     "text": [
      "Bin:  [0, 9e-05]  RMSE:  1.1745821970608672\n",
      "Bin:  [9e-05, 1]  RMSE:  2.1358921571543954\n",
      "Bin:  [1, 10]  RMSE:  4.9361261424164935\n",
      "Bin:  [10, 50]  RMSE:  15.291889201112133\n",
      "Bin:  [50, 1000]  RMSE:  44.708939075647244\n",
      "Total RSME 3.6281504839151832\n"
     ]
    },
    {
     "data": {
      "text/plain": [
       "[[[0, 9e-05], 1.3796433376523336, 1.1745821970608672],\n",
       " [[9e-05, 1], 4.562035306993657, 2.1358921571543954],\n",
       " [[1, 10], 24.365341293847532, 4.9361261424164935],\n",
       " [[10, 50], 233.84187533908985, 15.291889201112133],\n",
       " [[50, 1000], 1998.889233269937, 44.708939075647244]]"
      ]
     },
     "execution_count": 185,
     "metadata": {},
     "output_type": "execute_result"
    }
   ],
   "source": [
    "eval_bins(p, y_test, y_test)"
   ]
  },
  {
   "cell_type": "code",
   "execution_count": 272,
   "metadata": {},
   "outputs": [
    {
     "name": "stdout",
     "output_type": "stream",
     "text": [
      "Bin: [0, 9e-05]      RMSE: 1.114, MAE: 0.221\n",
      "Bin: [9e-05, 1]      RMSE: 2.083, MAE: 0.852\n",
      "Bin: [1, 10]         RMSE: 4.737, MAE: 2.936\n",
      "Bin: [10, 50]        RMSE: 14.318, MAE: 11.454\n",
      "Bin: [50, 1000]      RMSE: 42.467, MAE: 36.253\n",
      "Total RSME 3.437722289829286\n"
     ]
    },
    {
     "data": {
      "text/plain": [
       "[[[0, 9e-05], 1.2404707237167598, 1.1137642136990935, 0.22076951470743894],\n",
       " [[9e-05, 1], 4.3388958297606, 2.0830016394042037, 0.8516535821874164],\n",
       " [[1, 10], 22.442655449687813, 4.737367987573671, 2.935704337863973],\n",
       " [[10, 50], 205.00001285545153, 14.317821512208187, 11.45426664728321],\n",
       " [[50, 1000], 1803.4574301225628, 42.467133528442474, 36.25259661485339]]"
      ]
     },
     "execution_count": 272,
     "metadata": {},
     "output_type": "execute_result"
    }
   ],
   "source": [
    "# Performance original XGBoost\n",
    "eval_bins(y_testxgb, y_test, y_test)"
   ]
  },
  {
   "cell_type": "markdown",
   "metadata": {},
   "source": [
    "## Approach 2 - windspeed + track_distance"
   ]
  },
  {
   "cell_type": "code",
   "execution_count": 204,
   "metadata": {},
   "outputs": [],
   "source": [
    "conditionsT2 = {1: {\"wind_speed\": 2.9, \"track_distance\": -1}, \n",
    "                2: {\"wind_speed\": 2.9, \"track_distance\": 5}, \n",
    "                3: {\"wind_speed\": 5, \"track_distance\": -1.3}, \n",
    "                4: {\"wind_speed\": 5, \"track_distance\": 5}, \n",
    "                }\t"
   ]
  },
  {
   "cell_type": "code",
   "execution_count": 205,
   "metadata": {},
   "outputs": [],
   "source": [
    "models3 = buildfunctions(X_train_df, y_trainxgb_df, conditionsT2)\n",
    "p = predfunctiontree(X_test_df, models3, conditionsT2)\n",
    "y_test_df[\"FunctionTree_App2\"]  = p"
   ]
  },
  {
   "cell_type": "code",
   "execution_count": 58,
   "metadata": {},
   "outputs": [
    {
     "name": "stdout",
     "output_type": "stream",
     "text": [
      "MSE:  1.4836260946813777\n",
      "RMSE:  1.2180419100677027\n"
     ]
    }
   ],
   "source": [
    "mse = mean_squared_error(y_test_df['y_testxgb'], y_test_df['FunctionTree_App2'])\n",
    "print(\"MSE: \", mse)\n",
    "print(\"RMSE: \", np.sqrt(mse))"
   ]
  },
  {
   "cell_type": "code",
   "execution_count": 211,
   "metadata": {},
   "outputs": [],
   "source": [
    "models3 = buildfunctions(X_train_df, y_trainxgb_df, conditionsT2, n = 5, featlist = shap_list)\n",
    "p = predfunctiontree(X_test_df, models3, conditionsT2, n = 5, featlist = shap_list)\n",
    "y_test_df[\"FunctionTree_App2\"]  = p"
   ]
  },
  {
   "cell_type": "code",
   "execution_count": 60,
   "metadata": {},
   "outputs": [
    {
     "name": "stdout",
     "output_type": "stream",
     "text": [
      "MSE:  1.4347031654395122\n",
      "RMSE:  1.1977909523115926\n"
     ]
    }
   ],
   "source": [
    "mse = mean_squared_error(y_test_df['y_testxgb'], y_test_df['FunctionTree_App2'])\n",
    "print(\"MSE: \", mse)\n",
    "print(\"RMSE: \", np.sqrt(mse))"
   ]
  },
  {
   "cell_type": "code",
   "execution_count": 124,
   "metadata": {},
   "outputs": [
    {
     "name": "stdout",
     "output_type": "stream",
     "text": [
      "Bin:  [0, 9e-05]  RMSE:  0.5447208083464619\n",
      "Bin:  [9e-05, 1]  RMSE:  1.0613600451858\n",
      "Bin:  [1, 10]  RMSE:  2.462310869166272\n",
      "Bin:  [10, 50]  RMSE:  5.20091926773047\n",
      "Bin:  [50, 100]  RMSE:  8.792500143698566\n",
      "Total RSME 1.1977909523115926\n"
     ]
    },
    {
     "data": {
      "text/plain": [
       "[[[0, 9e-05], 0.2967207590456228, 0.5447208083464619],\n",
       " [[9e-05, 1], 1.1264851455168035, 1.0613600451858],\n",
       " [[1, 10], 6.062974816414361, 2.462310869166272],\n",
       " [[10, 50], 27.049561229450045, 5.20091926773047],\n",
       " [[50, 100], 77.3080587769393, 8.792500143698566]]"
      ]
     },
     "execution_count": 124,
     "metadata": {},
     "output_type": "execute_result"
    }
   ],
   "source": [
    "eval_bins(p, y_testxgb, y_test)"
   ]
  },
  {
   "cell_type": "code",
   "execution_count": 220,
   "metadata": {},
   "outputs": [
    {
     "data": {
      "text/html": [
       "<div>\n",
       "<style scoped>\n",
       "    .dataframe tbody tr th:only-of-type {\n",
       "        vertical-align: middle;\n",
       "    }\n",
       "\n",
       "    .dataframe tbody tr th {\n",
       "        vertical-align: top;\n",
       "    }\n",
       "\n",
       "    .dataframe thead th {\n",
       "        text-align: right;\n",
       "    }\n",
       "</style>\n",
       "<table border=\"1\" class=\"dataframe\">\n",
       "  <thead>\n",
       "    <tr style=\"text-align: right;\">\n",
       "      <th></th>\n",
       "      <th>Model 1</th>\n",
       "      <th>Model 2</th>\n",
       "      <th>Model 3</th>\n",
       "      <th>Model 4</th>\n",
       "    </tr>\n",
       "  </thead>\n",
       "  <tbody>\n",
       "    <tr>\n",
       "      <th>wind_speed</th>\n",
       "      <td>1.471614</td>\n",
       "      <td>0.222264</td>\n",
       "      <td>28.310678</td>\n",
       "      <td>21.186478</td>\n",
       "    </tr>\n",
       "    <tr>\n",
       "      <th>track_distance</th>\n",
       "      <td>-1.627347</td>\n",
       "      <td>0.047292</td>\n",
       "      <td>-20.107610</td>\n",
       "      <td>-3.754671</td>\n",
       "    </tr>\n",
       "    <tr>\n",
       "      <th>rainfall_max_6h</th>\n",
       "      <td>0.557796</td>\n",
       "      <td>0.056193</td>\n",
       "      <td>2.840780</td>\n",
       "      <td>0.922602</td>\n",
       "    </tr>\n",
       "    <tr>\n",
       "      <th>percent_houses_damaged_5years</th>\n",
       "      <td>0.432224</td>\n",
       "      <td>0.011632</td>\n",
       "      <td>3.558273</td>\n",
       "      <td>-0.041687</td>\n",
       "    </tr>\n",
       "    <tr>\n",
       "      <th>rainfall_max_24h</th>\n",
       "      <td>0.248998</td>\n",
       "      <td>0.044600</td>\n",
       "      <td>-6.302128</td>\n",
       "      <td>-5.295568</td>\n",
       "    </tr>\n",
       "  </tbody>\n",
       "</table>\n",
       "</div>"
      ],
      "text/plain": [
       "                                Model 1   Model 2    Model 3    Model 4\n",
       "wind_speed                     1.471614  0.222264  28.310678  21.186478\n",
       "track_distance                -1.627347  0.047292 -20.107610  -3.754671\n",
       "rainfall_max_6h                0.557796  0.056193   2.840780   0.922602\n",
       "percent_houses_damaged_5years  0.432224  0.011632   3.558273  -0.041687\n",
       "rainfall_max_24h               0.248998  0.044600  -6.302128  -5.295568"
      ]
     },
     "execution_count": 220,
     "metadata": {},
     "output_type": "execute_result"
    }
   ],
   "source": [
    "LRweights = pd.DataFrame(columns = ['Model 1', \"Model 2\"], index = shap_list[:5])\n",
    "LRweights['Model 1'] = models3[1].coef_[0]\n",
    "LRweights[\"Model 2\"] = models3[2].coef_[0]\n",
    "LRweights[\"Model 3\"] = models3[3].coef_[0]\n",
    "LRweights[\"Model 4\"] = models3[4].coef_[0]\n",
    "LRweights\n"
   ]
  },
  {
   "cell_type": "markdown",
   "metadata": {},
   "source": [
    "### Actual y values"
   ]
  },
  {
   "cell_type": "code",
   "execution_count": 195,
   "metadata": {},
   "outputs": [
    {
     "name": "stdout",
     "output_type": "stream",
     "text": [
      "Bin:  [0, 9e-05]  RMSE:  1.2118588817191263\n",
      "Bin:  [9e-05, 1]  RMSE:  2.2656969927658883\n",
      "Bin:  [1, 10]  RMSE:  4.562105102088948\n",
      "Bin:  [10, 50]  RMSE:  15.792126596197493\n",
      "Bin:  [50, 1000]  RMSE:  44.37330740973127\n",
      "Total RSME 3.651846468305194\n"
     ]
    },
    {
     "data": {
      "text/plain": [
       "[[[0, 9e-05], 1.4686019492015314, 1.2118588817191263],\n",
       " [[9e-05, 1], 5.133382863028389, 2.2656969927658883],\n",
       " [[1, 10], 20.812802962506005, 4.562105102088948],\n",
       " [[10, 50], 249.39126243032823, 15.792126596197493],\n",
       " [[50, 1000], 1968.990410478512, 44.37330740973127]]"
      ]
     },
     "execution_count": 195,
     "metadata": {},
     "output_type": "execute_result"
    }
   ],
   "source": [
    "models3 = buildfunctions(X_train_df, y_train, conditionsT2, n=5, featlist = shap_list)\n",
    "p = predfunctiontree(X_test_df, models3, conditionsT2, n=5, featlist = shap_list)\n",
    "eval_bins(p, y_test, y_test)"
   ]
  },
  {
   "cell_type": "markdown",
   "metadata": {},
   "source": [
    "### Approach 3: Rainfall"
   ]
  },
  {
   "cell_type": "code",
   "execution_count": 198,
   "metadata": {},
   "outputs": [],
   "source": [
    "conditionsT3 = {1: {\"wind_speed\": 2.9, \"track_distance\": -1}, \n",
    "                2: {\"wind_speed\": 2.9, \"track_distance\": 5} , \n",
    "                3: {\"wind_speed\": 5, \"track_distance\": -1.3, \"rainfall_max_6h\": 0.5}, \n",
    "                4: {\"wind_speed\": 5, \"track_distance\": 5, \"rainfall_max_6h\": 0.5},\n",
    "                5: {\"wind_speed\": 5, \"track_distance\": -1.3, \"rainfall_max_6h\": 5}, \n",
    "                6: {\"wind_speed\": 5, \"track_distance\": 5, \"rainfall_max_6h\": 5},  \n",
    "                }\t"
   ]
  },
  {
   "cell_type": "code",
   "execution_count": 201,
   "metadata": {},
   "outputs": [
    {
     "name": "stdout",
     "output_type": "stream",
     "text": [
      "Bin:  [0, 9e-05]  RMSE:  0.5353917958057893\n",
      "Bin:  [9e-05, 1]  RMSE:  0.9970979285832655\n",
      "Bin:  [1, 10]  RMSE:  2.542384866991887\n",
      "Bin:  [10, 50]  RMSE:  5.886179459300456\n",
      "Bin:  [50, 1000]  RMSE:  10.279765901103318\n",
      "Total RSME 1.285317219191378\n"
     ]
    },
    {
     "data": {
      "text/plain": [
       "[[[0, 9e-05], 0.28664437501614803, 0.5353917958057893],\n",
       " [[9e-05, 1], 0.9942042791850388, 0.9970979285832655],\n",
       " [[1, 10], 6.463720811909354, 2.542384866991887],\n",
       " [[10, 50], 34.6471086270906, 5.886179459300456],\n",
       " [[50, 1000], 105.67358698148651, 10.279765901103318]]"
      ]
     },
     "execution_count": 201,
     "metadata": {},
     "output_type": "execute_result"
    }
   ],
   "source": [
    "models3 = buildfunctions(X_train_df, y_trainxgb_df, conditionsT3)\n",
    "p = predfunctiontree(X_test_df, models3, conditionsT3)\n",
    "eval_bins(p, y_testxgb, y_test)"
   ]
  },
  {
   "cell_type": "code",
   "execution_count": 202,
   "metadata": {},
   "outputs": [
    {
     "name": "stdout",
     "output_type": "stream",
     "text": [
      "Bin:  [0, 9e-05]  RMSE:  1.2078416167011596\n",
      "Bin:  [9e-05, 1]  RMSE:  2.0413542166725875\n",
      "Bin:  [1, 10]  RMSE:  5.06318003595914\n",
      "Bin:  [10, 50]  RMSE:  16.799502786918136\n",
      "Bin:  [50, 1000]  RMSE:  44.09169294682471\n",
      "Total RSME 3.7380263058448095\n"
     ]
    },
    {
     "data": {
      "text/plain": [
       "[[[0, 9e-05], 1.4588813710352708, 1.2078416167011596],\n",
       " [[9e-05, 1], 4.167127037926953, 2.0413542166725875],\n",
       " [[1, 10], 25.635792076535196, 5.06318003595914],\n",
       " [[10, 50], 282.22329388767025, 16.799502786918136],\n",
       " [[50, 1000], 1944.0773869170719, 44.09169294682471]]"
      ]
     },
     "execution_count": 202,
     "metadata": {},
     "output_type": "execute_result"
    }
   ],
   "source": [
    "models3 = buildfunctions(X_train_df, y_train, conditionsT3)\n",
    "p = predfunctiontree(X_test_df, models3, conditionsT3)\n",
    "eval_bins(p, y_test, y_test)"
   ]
  },
  {
   "cell_type": "markdown",
   "metadata": {},
   "source": [
    "## More EDA"
   ]
  },
  {
   "cell_type": "code",
   "execution_count": 203,
   "metadata": {},
   "outputs": [
    {
     "name": "stdout",
     "output_type": "stream",
     "text": [
      "MSE:  11.079128950142737\n",
      "RMSE:  3.3285325520629563\n"
     ]
    },
    {
     "data": {
      "text/plain": [
       "[Text(0.5, 0.875, 'track_distance <= -1.302\\nsquared_error = 15.126\\nsamples = 39803\\nvalue = 0.835'),\n",
       " Text(0.25, 0.625, 'rainfall_max_24h <= -0.03\\nsquared_error = 94.027\\nsamples = 4898\\nvalue = 5.089'),\n",
       " Text(0.125, 0.375, 'water <= -1.459\\nsquared_error = 44.159\\nsamples = 1066\\nvalue = 1.584'),\n",
       " Text(0.0625, 0.125, 'squared_error = 316.877\\nsamples = 53\\nvalue = 8.323'),\n",
       " Text(0.1875, 0.125, 'squared_error = 27.39\\nsamples = 1013\\nvalue = 1.232'),\n",
       " Text(0.375, 0.375, 'track_distance <= -1.425\\nsquared_error = 103.532\\nsamples = 3832\\nvalue = 6.064'),\n",
       " Text(0.3125, 0.125, 'squared_error = 125.247\\nsamples = 2710\\nvalue = 6.916'),\n",
       " Text(0.4375, 0.125, 'squared_error = 45.103\\nsamples = 1122\\nvalue = 4.007'),\n",
       " Text(0.75, 0.625, 'track_distance <= -1.029\\nsquared_error = 1.158\\nsamples = 34905\\nvalue = 0.238'),\n",
       " Text(0.625, 0.375, 'rainfall_max_6h <= 2.754\\nsquared_error = 9.481\\nsamples = 3150\\nvalue = 1.627'),\n",
       " Text(0.5625, 0.125, 'squared_error = 8.122\\nsamples = 3138\\nvalue = 1.578'),\n",
       " Text(0.6875, 0.125, 'squared_error = 197.406\\nsamples = 12\\nvalue = 14.538'),\n",
       " Text(0.875, 0.375, 'track_distance <= -0.799\\nsquared_error = 0.122\\nsamples = 31755\\nvalue = 0.1'),\n",
       " Text(0.8125, 0.125, 'squared_error = 0.847\\nsamples = 2727\\nvalue = 0.51'),\n",
       " Text(0.9375, 0.125, 'squared_error = 0.037\\nsamples = 29028\\nvalue = 0.062')]"
      ]
     },
     "execution_count": 203,
     "metadata": {},
     "output_type": "execute_result"
    },
    {
     "data": {
      "image/png": "[encoded data removed]",
      "text/plain": [
       "<Figure size 2000x1000 with 1 Axes>"
      ]
     },
     "metadata": {},
     "output_type": "display_data"
    }
   ],
   "source": [
    "from sklearn.tree import DecisionTreeRegressor\n",
    "dt = DecisionTreeRegressor(max_depth=3)\n",
    "dt.fit(X_train_df[shap_list[1:]], y_trainxgb)\n",
    "y_pred = dt.predict(X_test_df[shap_list[1:]])\n",
    "mse = mean_squared_error(y_testxgb, y_pred)\n",
    "\n",
    "print(\"MSE: \", mse)\n",
    "print(\"RMSE: \", np.sqrt(mse))\n",
    "\n",
    "from sklearn.tree import plot_tree\n",
    "import matplotlib.pyplot as plt\n",
    "plt.figure(figsize=(20,10))\n",
    "plot_tree(dt, feature_names=features[1:], filled=True, fontsize=8)"
   ]
  },
  {
   "cell_type": "markdown",
   "metadata": {},
   "source": [
    "# Lists"
   ]
  },
  {
   "cell_type": "code",
   "execution_count": 247,
   "metadata": {},
   "outputs": [],
   "source": [
    "shap_list = ['wind_speed', 'track_distance', 'rainfall_max_6h',\n",
    "       'percent_houses_damaged_5years', 'rainfall_max_24h', 'urban',\n",
    "       'mean_elev', 'coast_length', 'total_houses', 'rwi', 'std_slope',\n",
    "       'mean_slope', 'total_pop', 'mean_tri', 'water', 'rural', 'std_tri',\n",
    "       'with_coast']\n",
    "\n",
    "\n",
    "lime_list = ['wind_speed',\n",
    " 'track_distance',\n",
    " 'rwi',\n",
    " 'rainfall_max_6h',\n",
    " 'percent_houses_damaged_5years',\n",
    " 'rainfall_max_24h',\n",
    " 'urban',\n",
    " 'mean_elev',\n",
    " 'coast_length',\n",
    " 'rural',\n",
    " 'std_slope',\n",
    " 'total_pop',\n",
    " 'water',\n",
    " 'mean_tri',\n",
    " 'total_houses',\n",
    " 'std_tri',\n",
    " 'with_coast',\n",
    " 'mean_slope']\n",
    "\n",
    "xgb_list = ['wind_speed',\n",
    " 'std_tri',\n",
    " 'track_distance',\n",
    " 'with_coast',\n",
    " 'rainfall_max_24h',\n",
    " 'mean_tri',\n",
    " 'percent_houses_damaged_5years',\n",
    " 'rainfall_max_6h',\n",
    " 'mean_slope',\n",
    " 'std_slope',\n",
    " 'total_pop',\n",
    " 'mean_elev',\n",
    " 'water',\n",
    " 'total_houses',\n",
    " 'rural',\n",
    " 'rwi',\n",
    " 'coast_length',\n",
    " 'urban']"
   ]
  }
 ],
 "metadata": {
  "kernelspec": {
   "display_name": "base",
   "language": "python",
   "name": "python3"
  },
  "language_info": {
   "codemirror_mode": {
    "name": "ipython",
    "version": 3
   },
   "file_extension": ".py",
   "mimetype": "text/x-python",
   "name": "python",
   "nbconvert_exporter": "python",
   "pygments_lexer": "ipython3",
   "version": "3.11.8"
  }
 },
 "nbformat": 4,
 "nbformat_minor": 2
}
